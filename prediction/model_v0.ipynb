{
 "cells": [
  {
   "cell_type": "code",
   "execution_count": 2,
   "metadata": {},
   "outputs": [],
   "source": [
    "import numpy as np\n",
    "import pandas as pd\n",
    "from pymystem3 import Mystem"
   ]
  },
  {
   "cell_type": "code",
   "execution_count": 3,
   "metadata": {},
   "outputs": [],
   "source": [
    "data_raw = pd.read_csv('../all_data.csv', sep=';')"
   ]
  },
  {
   "cell_type": "markdown",
   "metadata": {},
   "source": [
    "## Анализ данных"
   ]
  },
  {
   "cell_type": "code",
   "execution_count": 4,
   "metadata": {
    "scrolled": true
   },
   "outputs": [
    {
     "data": {
      "text/html": [
       "<div>\n",
       "<style scoped>\n",
       "    .dataframe tbody tr th:only-of-type {\n",
       "        vertical-align: middle;\n",
       "    }\n",
       "\n",
       "    .dataframe tbody tr th {\n",
       "        vertical-align: top;\n",
       "    }\n",
       "\n",
       "    .dataframe thead th {\n",
       "        text-align: right;\n",
       "    }\n",
       "</style>\n",
       "<table border=\"1\" class=\"dataframe\">\n",
       "  <thead>\n",
       "    <tr style=\"text-align: right;\">\n",
       "      <th></th>\n",
       "      <th>EDU1_pos</th>\n",
       "      <th>EDU1_text</th>\n",
       "      <th>EDU2_pos</th>\n",
       "      <th>EDU2_text</th>\n",
       "      <th>Text_id</th>\n",
       "      <th>Relation</th>\n",
       "    </tr>\n",
       "  </thead>\n",
       "  <tbody>\n",
       "    <tr>\n",
       "      <th>0</th>\n",
       "      <td>1</td>\n",
       "      <td>##### Внутри 22-й Московской международной кни...</td>\n",
       "      <td>2</td>\n",
       "      <td>проходившей в начале сентября 2009 года на ВВЦ,</td>\n",
       "      <td>0</td>\n",
       "      <td>elaboration_NS</td>\n",
       "    </tr>\n",
       "    <tr>\n",
       "      <th>1</th>\n",
       "      <td>1</td>\n",
       "      <td>##### Внутри 22-й Московской международной кни...</td>\n",
       "      <td>3</td>\n",
       "      <td>работала внутренняя выставка — «Книгабайт»,</td>\n",
       "      <td>0</td>\n",
       "      <td>no_relation</td>\n",
       "    </tr>\n",
       "    <tr>\n",
       "      <th>2</th>\n",
       "      <td>1</td>\n",
       "      <td>##### Внутри 22-й Московской международной кни...</td>\n",
       "      <td>4</td>\n",
       "      <td>посвящённая электронному книгоизданию.</td>\n",
       "      <td>0</td>\n",
       "      <td>no_relation</td>\n",
       "    </tr>\n",
       "    <tr>\n",
       "      <th>3</th>\n",
       "      <td>2</td>\n",
       "      <td>проходившей в начале сентября 2009 года на ВВЦ,</td>\n",
       "      <td>3</td>\n",
       "      <td>работала внутренняя выставка — «Книгабайт»,</td>\n",
       "      <td>0</td>\n",
       "      <td>no_relation</td>\n",
       "    </tr>\n",
       "    <tr>\n",
       "      <th>4</th>\n",
       "      <td>2</td>\n",
       "      <td>проходившей в начале сентября 2009 года на ВВЦ,</td>\n",
       "      <td>4</td>\n",
       "      <td>посвящённая электронному книгоизданию.</td>\n",
       "      <td>0</td>\n",
       "      <td>no_relation</td>\n",
       "    </tr>\n",
       "    <tr>\n",
       "      <th>5</th>\n",
       "      <td>3</td>\n",
       "      <td>работала внутренняя выставка — «Книгабайт»,</td>\n",
       "      <td>4</td>\n",
       "      <td>посвящённая электронному книгоизданию.</td>\n",
       "      <td>0</td>\n",
       "      <td>elaboration_NS</td>\n",
       "    </tr>\n",
       "    <tr>\n",
       "      <th>6</th>\n",
       "      <td>5</td>\n",
       "      <td>И хотя место экспозиция занимала скромное,</td>\n",
       "      <td>6</td>\n",
       "      <td>да и участников у неё тоже немного,</td>\n",
       "      <td>0</td>\n",
       "      <td>joint_M</td>\n",
       "    </tr>\n",
       "    <tr>\n",
       "      <th>7</th>\n",
       "      <td>5</td>\n",
       "      <td>И хотя место экспозиция занимала скромное,</td>\n",
       "      <td>7</td>\n",
       "      <td>но по их бодрым, в отличие от большинства изда...</td>\n",
       "      <td>0</td>\n",
       "      <td>concession_SN</td>\n",
       "    </tr>\n",
       "    <tr>\n",
       "      <th>8</th>\n",
       "      <td>6</td>\n",
       "      <td>да и участников у неё тоже немного,</td>\n",
       "      <td>7</td>\n",
       "      <td>но по их бодрым, в отличие от большинства изда...</td>\n",
       "      <td>0</td>\n",
       "      <td>concession_SN</td>\n",
       "    </tr>\n",
       "    <tr>\n",
       "      <th>9</th>\n",
       "      <td>10</td>\n",
       "      <td>Точнее, услышать что-либо было вообще сложно,</td>\n",
       "      <td>11</td>\n",
       "      <td>поскольку издатели книг бумажных пустились во ...</td>\n",
       "      <td>0</td>\n",
       "      <td>cause-effect_NS</td>\n",
       "    </tr>\n",
       "  </tbody>\n",
       "</table>\n",
       "</div>"
      ],
      "text/plain": [
       "   EDU1_pos                                          EDU1_text  EDU2_pos  \\\n",
       "0         1  ##### Внутри 22-й Московской международной кни...         2   \n",
       "1         1  ##### Внутри 22-й Московской международной кни...         3   \n",
       "2         1  ##### Внутри 22-й Московской международной кни...         4   \n",
       "3         2    проходившей в начале сентября 2009 года на ВВЦ,         3   \n",
       "4         2    проходившей в начале сентября 2009 года на ВВЦ,         4   \n",
       "5         3        работала внутренняя выставка — «Книгабайт»,         4   \n",
       "6         5         И хотя место экспозиция занимала скромное,         6   \n",
       "7         5         И хотя место экспозиция занимала скромное,         7   \n",
       "8         6                да и участников у неё тоже немного,         7   \n",
       "9        10      Точнее, услышать что-либо было вообще сложно,        11   \n",
       "\n",
       "                                           EDU2_text  Text_id         Relation  \n",
       "0    проходившей в начале сентября 2009 года на ВВЦ,        0   elaboration_NS  \n",
       "1        работала внутренняя выставка — «Книгабайт»,        0      no_relation  \n",
       "2             посвящённая электронному книгоизданию.        0      no_relation  \n",
       "3        работала внутренняя выставка — «Книгабайт»,        0      no_relation  \n",
       "4             посвящённая электронному книгоизданию.        0      no_relation  \n",
       "5             посвящённая электронному книгоизданию.        0   elaboration_NS  \n",
       "6                да и участников у неё тоже немного,        0          joint_M  \n",
       "7  но по их бодрым, в отличие от большинства изда...        0    concession_SN  \n",
       "8  но по их бодрым, в отличие от большинства изда...        0    concession_SN  \n",
       "9  поскольку издатели книг бумажных пустились во ...        0  cause-effect_NS  "
      ]
     },
     "execution_count": 4,
     "metadata": {},
     "output_type": "execute_result"
    }
   ],
   "source": [
    "data_raw.head(10)"
   ]
  },
  {
   "cell_type": "code",
   "execution_count": 5,
   "metadata": {},
   "outputs": [],
   "source": [
    "target = data_raw['Relation']"
   ]
  },
  {
   "cell_type": "code",
   "execution_count": 6,
   "metadata": {},
   "outputs": [
    {
     "data": {
      "text/plain": [
       "4678"
      ]
     },
     "execution_count": 6,
     "metadata": {},
     "output_type": "execute_result"
    }
   ],
   "source": [
    "len(target)"
   ]
  },
  {
   "cell_type": "code",
   "execution_count": 7,
   "metadata": {
    "scrolled": true
   },
   "outputs": [
    {
     "data": {
      "text/plain": [
       "no_relation                     1866\n",
       "joint_M                          737\n",
       "elaboration_NS                   723\n",
       "same-unit_M                      216\n",
       "attribution_SN                   152\n",
       "contrast_M                       139\n",
       "cause-effect_SN                   82\n",
       "cause-effect_NS                   81\n",
       "condition_SN                      71\n",
       "sequence_M                        66\n",
       "elaboration_SN                    64\n",
       "purpose_NS                        60\n",
       "comparison_M                      47\n",
       "attribution_NS                    44\n",
       "background_SN                     40\n",
       "condition_NS                      38\n",
       "interpretation-evaluation_SN      37\n",
       "background_NS                     35\n",
       "concession_SN                     29\n",
       "purpose_SN                        28\n",
       "evidence_NS                       28\n",
       "concession_NS                     26\n",
       "restatement_M                     24\n",
       "evidence_SN                       16\n",
       "interpretation-evaluation_NS      14\n",
       "preparation_SN                     9\n",
       "solutionhood_SN                    2\n",
       "antithesis_NS                      2\n",
       "antithesis_SN                      1\n",
       "evaluation_NS                      1\n",
       "Name: Relation, dtype: int64"
      ]
     },
     "execution_count": 7,
     "metadata": {},
     "output_type": "execute_result"
    }
   ],
   "source": [
    "target.value_counts()"
   ]
  },
  {
   "cell_type": "code",
   "execution_count": 9,
   "metadata": {
    "scrolled": true
   },
   "outputs": [
    {
     "data": {
      "text/plain": [
       "<matplotlib.axes._subplots.AxesSubplot at 0x7f3a600db588>"
      ]
     },
     "execution_count": 9,
     "metadata": {},
     "output_type": "execute_result"
    },
    {
     "data": {
      "image/png": "[encoded data removed]",
      "text/plain": [
       "<matplotlib.figure.Figure at 0x7f3a600a1eb8>"
      ]
     },
     "metadata": {},
     "output_type": "display_data"
    }
   ],
   "source": [
    "target.value_counts().plot(kind='bar', figsize = (10, 7))"
   ]
  },
  {
   "cell_type": "markdown",
   "metadata": {},
   "source": [
    "## Признаки"
   ]
  },
  {
   "cell_type": "code",
   "execution_count": null,
   "metadata": {},
   "outputs": [],
   "source": []
  },
  {
   "cell_type": "markdown",
   "metadata": {},
   "source": [
    "## Модели"
   ]
  },
  {
   "cell_type": "code",
   "execution_count": null,
   "metadata": {},
   "outputs": [],
   "source": [
    "## RF"
   ]
  },
  {
   "cell_type": "code",
   "execution_count": null,
   "metadata": {},
   "outputs": [],
   "source": [
    "## SVM"
   ]
  },
  {
   "cell_type": "code",
   "execution_count": null,
   "metadata": {},
   "outputs": [],
   "source": [
    "## NaiveBayes"
   ]
  },
  {
   "cell_type": "code",
   "execution_count": null,
   "metadata": {},
   "outputs": [],
   "source": [
    "## CatBoost"
   ]
  }
 ],
 "metadata": {
  "kernelspec": {
   "display_name": "Python 3",
   "language": "python",
   "name": "python3"
  },
  "language_info": {
   "codemirror_mode": {
    "name": "ipython",
    "version": 3
   },
   "file_extension": ".py",
   "mimetype": "text/x-python",
   "name": "python",
   "nbconvert_exporter": "python",
   "pygments_lexer": "ipython3",
   "version": "3.6.4"
  }
 },
 "nbformat": 4,
 "nbformat_minor": 2
}
