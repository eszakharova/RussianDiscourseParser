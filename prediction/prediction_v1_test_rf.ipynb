{
 "cells": [
  {
   "cell_type": "code",
   "execution_count": 1,
   "metadata": {},
   "outputs": [],
   "source": [
    "import numpy as np\n",
    "import pandas as pd\n",
    "import pickle\n",
    "import regex as re\n",
    "from sklearn.model_selection import cross_val_predict"
   ]
  },
  {
   "cell_type": "code",
   "execution_count": 2,
   "metadata": {},
   "outputs": [],
   "source": [
    "from preprocessing.parse_rs3_make_objects import EDUPair, EDU\n",
    "from make_features import load_pairs_target_remove_minor_classes, generate_feature_matrix_, \\\n",
    "all_classification_reports, smote_oversampling, smote_oversampling5"
   ]
  },
  {
   "cell_type": "code",
   "execution_count": 3,
   "metadata": {},
   "outputs": [],
   "source": [
    "# придется убрать классы, в которых меньше 3 объектов, а то все плохо\n",
    "pairs,target = load_pairs_target_remove_minor_classes() "
   ]
  },
  {
   "cell_type": "code",
   "execution_count": 4,
   "metadata": {},
   "outputs": [
    {
     "name": "stdout",
     "output_type": "stream",
     "text": [
      "(4672, 6235)\n"
     ]
    }
   ],
   "source": [
    "X = generate_feature_matrix_(pairs)"
   ]
  },
  {
   "cell_type": "code",
   "execution_count": 5,
   "metadata": {},
   "outputs": [],
   "source": [
    "SEED=669"
   ]
  },
  {
   "cell_type": "code",
   "execution_count": 6,
   "metadata": {},
   "outputs": [
    {
     "name": "stdout",
     "output_type": "stream",
     "text": [
      "(48516, 6235)\n"
     ]
    }
   ],
   "source": [
    "# oversampling 5 neighbors\n",
    "X_res, target_res = smote_oversampling5(X, target) "
   ]
  },
  {
   "cell_type": "code",
   "execution_count": 7,
   "metadata": {},
   "outputs": [],
   "source": [
    "from sklearn.model_selection import train_test_split\n",
    "X_train, X_test, y_train, y_test = train_test_split(X, target,\n",
    "                                                    stratify=target, \n",
    "                                                    test_size=0.25, random_state=SEED)"
   ]
  },
  {
   "cell_type": "code",
   "execution_count": 8,
   "metadata": {
    "scrolled": true
   },
   "outputs": [
    {
     "name": "stdout",
     "output_type": "stream",
     "text": [
      "(36400, 6235)\n"
     ]
    }
   ],
   "source": [
    "X_train_res, y_train_res = smote_oversampling(X_train, y_train)"
   ]
  },
  {
   "cell_type": "code",
   "execution_count": 9,
   "metadata": {},
   "outputs": [],
   "source": [
    "SEED=669"
   ]
  },
  {
   "cell_type": "code",
   "execution_count": 10,
   "metadata": {},
   "outputs": [],
   "source": [
    "## Random Forest\n",
    "from sklearn.ensemble import RandomForestClassifier\n",
    "rf = RandomForestClassifier(n_estimators=1500, random_state=SEED)"
   ]
  },
  {
   "cell_type": "markdown",
   "metadata": {},
   "source": [
    "## Cross_val"
   ]
  },
  {
   "cell_type": "code",
   "execution_count": 13,
   "metadata": {},
   "outputs": [
    {
     "name": "stderr",
     "output_type": "stream",
     "text": [
      "[Parallel(n_jobs=1)]: Done   1 out of   1 | elapsed: 20.5min remaining:    0.0s\n",
      "[Parallel(n_jobs=1)]: Done   2 out of   2 | elapsed: 49.5min remaining:    0.0s\n",
      "[Parallel(n_jobs=1)]: Done   3 out of   3 | elapsed: 95.5min remaining:    0.0s\n",
      "[Parallel(n_jobs=1)]: Done   4 out of   4 | elapsed: 125.8min remaining:    0.0s\n",
      "[Parallel(n_jobs=1)]: Done   5 out of   5 | elapsed: 160.5min remaining:    0.0s\n",
      "[Parallel(n_jobs=1)]: Done   5 out of   5 | elapsed: 160.7min finished\n"
     ]
    },
    {
     "name": "stdout",
     "output_type": "stream",
     "text": [
      "All together:\n",
      "                              precision    recall  f1-score   support\n",
      "\n",
      "              attribution_NS       0.99      1.00      1.00      1866\n",
      "              attribution_SN       0.98      0.99      0.98      1866\n",
      "               background_NS       0.99      1.00      1.00      1866\n",
      "               background_SN       1.00      1.00      1.00      1866\n",
      "             cause-effect_NS       0.99      0.99      0.99      1866\n",
      "             cause-effect_SN       1.00      0.99      1.00      1866\n",
      "                comparison_M       1.00      1.00      1.00      1866\n",
      "               concession_NS       0.99      1.00      1.00      1866\n",
      "               concession_SN       1.00      1.00      1.00      1866\n",
      "                condition_NS       0.99      1.00      0.99      1866\n",
      "                condition_SN       0.99      1.00      0.99      1866\n",
      "                  contrast_M       0.97      0.99      0.98      1866\n",
      "              elaboration_NS       0.88      0.80      0.84      1866\n",
      "              elaboration_SN       0.99      1.00      1.00      1866\n",
      "                 evidence_NS       1.00      1.00      1.00      1866\n",
      "                 evidence_SN       1.00      1.00      1.00      1866\n",
      "interpretation-evaluation_NS       1.00      1.00      1.00      1866\n",
      "interpretation-evaluation_SN       1.00      1.00      1.00      1866\n",
      "                     joint_M       0.85      0.86      0.86      1866\n",
      "                 no_relation       0.59      0.58      0.59      1866\n",
      "              preparation_SN       1.00      1.00      1.00      1866\n",
      "                  purpose_NS       0.98      1.00      0.99      1866\n",
      "                  purpose_SN       1.00      1.00      1.00      1866\n",
      "               restatement_M       1.00      1.00      1.00      1866\n",
      "                 same-unit_M       0.97      0.97      0.97      1866\n",
      "                  sequence_M       1.00      0.99      1.00      1866\n",
      "\n",
      "                 avg / total       0.97      0.97      0.97     48516\n",
      "\n",
      "Relation type:\n",
      "                           precision    recall  f1-score   support\n",
      "\n",
      "              attribution       0.99      0.99      0.99      3732\n",
      "               background       1.00      1.00      1.00      3732\n",
      "             cause-effect       0.99      0.99      0.99      3732\n",
      "               comparison       1.00      1.00      1.00      1866\n",
      "               concession       0.99      1.00      1.00      3732\n",
      "                condition       0.99      1.00      0.99      3732\n",
      "                 contrast       0.97      0.99      0.98      1866\n",
      "              elaboration       0.94      0.90      0.92      3732\n",
      "                 evidence       1.00      1.00      1.00      3732\n",
      "interpretation-evaluation       1.00      1.00      1.00      3732\n",
      "                    joint       0.85      0.86      0.86      1866\n",
      "              no_relation       0.59      0.58      0.59      1866\n",
      "              preparation       1.00      1.00      1.00      1866\n",
      "                  purpose       0.99      1.00      0.99      3732\n",
      "              restatement       1.00      1.00      1.00      1866\n",
      "                same-unit       0.97      0.97      0.97      1866\n",
      "                 sequence       1.00      0.99      1.00      1866\n",
      "\n",
      "              avg / total       0.97      0.97      0.97     48516\n",
      "\n",
      "Nuclearity:\n",
      "             precision    recall  f1-score   support\n",
      "\n",
      "          M       0.97      0.97      0.97     11196\n",
      "         NS       0.98      0.98      0.98     16794\n",
      "         SN       0.99      1.00      1.00     18660\n",
      "no_relation       0.59      0.58      0.59      1866\n",
      "\n",
      "avg / total       0.97      0.97      0.97     48516\n",
      "\n",
      "Presence of relation:\n",
      "             precision    recall  f1-score   support\n",
      "\n",
      "no_relation       0.59      0.58      0.59      1866\n",
      "   relation       0.98      0.98      0.98     46650\n",
      "\n",
      "avg / total       0.97      0.97      0.97     48516\n",
      "\n"
     ]
    }
   ],
   "source": [
    "pred_rf_cv = cross_val_predict(rf, X_res, target_res, cv=5, verbose=10)\n",
    "all_classification_reports(target_res, pred_rf_cv)"
   ]
  },
  {
   "cell_type": "markdown",
   "metadata": {},
   "source": [
    "## Train/test"
   ]
  },
  {
   "cell_type": "code",
   "execution_count": 11,
   "metadata": {},
   "outputs": [],
   "source": [
    "rf.fit(X_train_res, y_train_res)\n",
    "y_pred = rf.predict(X_test)"
   ]
  },
  {
   "cell_type": "code",
   "execution_count": 12,
   "metadata": {
    "scrolled": false
   },
   "outputs": [
    {
     "name": "stdout",
     "output_type": "stream",
     "text": [
      "All together:\n",
      "                              precision    recall  f1-score   support\n",
      "\n",
      "              attribution_NS       1.00      0.09      0.17        11\n",
      "              attribution_SN       0.48      0.32      0.38        38\n",
      "               background_NS       0.00      0.00      0.00         9\n",
      "               background_SN       0.00      0.00      0.00        10\n",
      "             cause-effect_NS       1.00      0.15      0.26        20\n",
      "             cause-effect_SN       1.00      0.10      0.17        21\n",
      "                comparison_M       0.00      0.00      0.00        12\n",
      "               concession_NS       0.00      0.00      0.00         7\n",
      "               concession_SN       0.00      0.00      0.00         7\n",
      "                condition_NS       0.00      0.00      0.00        10\n",
      "                condition_SN       0.83      0.28      0.42        18\n",
      "                  contrast_M       0.75      0.09      0.15        35\n",
      "              elaboration_NS       0.49      0.16      0.24       181\n",
      "              elaboration_SN       0.00      0.00      0.00        16\n",
      "                 evidence_NS       0.00      0.00      0.00         7\n",
      "                 evidence_SN       0.00      0.00      0.00         4\n",
      "interpretation-evaluation_NS       1.00      0.33      0.50         3\n",
      "interpretation-evaluation_SN       0.00      0.00      0.00         9\n",
      "                     joint_M       0.59      0.43      0.50       184\n",
      "                 no_relation       0.44      0.86      0.59       466\n",
      "              preparation_SN       0.00      0.00      0.00         2\n",
      "                  purpose_NS       0.50      0.07      0.12        15\n",
      "                  purpose_SN       0.00      0.00      0.00         7\n",
      "               restatement_M       1.00      0.17      0.29         6\n",
      "                 same-unit_M       0.33      0.06      0.10        54\n",
      "                  sequence_M       0.80      0.25      0.38        16\n",
      "\n",
      "                 avg / total       0.48      0.47      0.40      1168\n",
      "\n",
      "Relation type:\n",
      "                           precision    recall  f1-score   support\n",
      "\n",
      "              attribution       0.50      0.27      0.35        49\n",
      "               background       0.00      0.00      0.00        19\n",
      "             cause-effect       1.00      0.12      0.22        41\n",
      "               comparison       0.00      0.00      0.00        12\n",
      "               concession       0.00      0.00      0.00        14\n",
      "                condition       0.56      0.18      0.27        28\n",
      "                 contrast       0.75      0.09      0.15        35\n",
      "              elaboration       0.51      0.15      0.23       197\n",
      "                 evidence       0.00      0.00      0.00        11\n",
      "interpretation-evaluation       0.50      0.08      0.14        12\n",
      "                    joint       0.59      0.43      0.50       184\n",
      "              no_relation       0.44      0.86      0.59       466\n",
      "              preparation       0.00      0.00      0.00         2\n",
      "                  purpose       0.50      0.05      0.08        22\n",
      "              restatement       1.00      0.17      0.29         6\n",
      "                same-unit       0.33      0.06      0.10        54\n",
      "                 sequence       0.80      0.25      0.38        16\n",
      "\n",
      "              avg / total       0.49      0.47      0.40      1168\n",
      "\n",
      "Nuclearity:\n",
      "             precision    recall  f1-score   support\n",
      "\n",
      "          M       0.66      0.33      0.44       307\n",
      "         NS       0.52      0.14      0.22       263\n",
      "         SN       0.65      0.17      0.27       132\n",
      "no_relation       0.44      0.86      0.59       466\n",
      "\n",
      "avg / total       0.54      0.48      0.43      1168\n",
      "\n",
      "Presence of relation:\n",
      "             precision    recall  f1-score   support\n",
      "\n",
      "no_relation       0.44      0.86      0.59       466\n",
      "   relation       0.76      0.28      0.41       702\n",
      "\n",
      "avg / total       0.63      0.51      0.48      1168\n",
      "\n"
     ]
    },
    {
     "name": "stderr",
     "output_type": "stream",
     "text": [
      "/home/lena/anaconda3/lib/python3.6/site-packages/sklearn/metrics/classification.py:1135: UndefinedMetricWarning: Precision and F-score are ill-defined and being set to 0.0 in labels with no predicted samples.\n",
      "  'precision', 'predicted', average, warn_for)\n"
     ]
    }
   ],
   "source": [
    "all_classification_reports(y_test, y_pred)"
   ]
  },
  {
   "cell_type": "code",
   "execution_count": null,
   "metadata": {},
   "outputs": [],
   "source": []
  }
 ],
 "metadata": {
  "kernelspec": {
   "display_name": "Python 3",
   "language": "python",
   "name": "python3"
  },
  "language_info": {
   "codemirror_mode": {
    "name": "ipython",
    "version": 3
   },
   "file_extension": ".py",
   "mimetype": "text/x-python",
   "name": "python",
   "nbconvert_exporter": "python",
   "pygments_lexer": "ipython3",
   "version": "3.6.4"
  }
 },
 "nbformat": 4,
 "nbformat_minor": 2
}
