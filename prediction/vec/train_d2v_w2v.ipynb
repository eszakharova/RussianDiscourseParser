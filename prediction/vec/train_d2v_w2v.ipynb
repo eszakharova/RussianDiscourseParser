{
 "cells": [
  {
   "cell_type": "code",
   "execution_count": 10,
   "metadata": {},
   "outputs": [],
   "source": [
    "from gensim.models import Doc2Vec, Word2Vec\n",
    "from gensim.models.doc2vec import TaggedDocument\n",
    "from text_preprocessing import tokenize\n",
    "import multiprocessing\n",
    "import pickle"
   ]
  },
  {
   "cell_type": "code",
   "execution_count": 11,
   "metadata": {},
   "outputs": [],
   "source": [
    "import gensim.models.doc2vec\n",
    "cores = multiprocessing.cpu_count()\n",
    "assert gensim.models.doc2vec.FAST_VERSION > -1, \"This will be painfully slow otherwise\""
   ]
  },
  {
   "cell_type": "code",
   "execution_count": 12,
   "metadata": {},
   "outputs": [],
   "source": [
    "# препроцессинг\n",
    "with open('all_clauses.pkl', 'rb') as file:\n",
    "    clauses = pickle.load(file)\n",
    "res_clauses = []\n",
    "for num, clause in enumerate(clauses):\n",
    "    tags = [num]\n",
    "    res_clauses.append(TaggedDocument(clause, tags))"
   ]
  },
  {
   "cell_type": "code",
   "execution_count": 14,
   "metadata": {},
   "outputs": [],
   "source": [
    "SEED=669"
   ]
  },
  {
   "cell_type": "code",
   "execution_count": 16,
   "metadata": {},
   "outputs": [],
   "source": [
    "# обучить модель\n",
    "model_docs = Doc2Vec(res_clauses, dm=0, vector_size=100, window=5, min_count=1, workers=cores, seed=SEED)"
   ]
  },
  {
   "cell_type": "code",
   "execution_count": 17,
   "metadata": {},
   "outputs": [
    {
     "data": {
      "text/plain": [
       "array([ 2.0522824e-03, -4.4705207e-03,  4.4175517e-03, -1.9952320e-03,\n",
       "        6.4709894e-03,  2.6789820e-03, -2.2620159e-04, -3.5834210e-03,\n",
       "        5.2025351e-03,  4.4293222e-03,  2.4714547e-03, -3.3597685e-03,\n",
       "        6.1589957e-04, -7.2001934e-04,  4.4991439e-03,  2.1678079e-03,\n",
       "        1.5906864e-03, -4.2772335e-03,  3.1804573e-04, -1.9732949e-03,\n",
       "       -7.2915163e-03,  1.6826039e-04, -3.8367617e-03, -6.5767090e-03,\n",
       "       -5.9949234e-04,  5.5628195e-03,  1.9152053e-03,  5.4852961e-04,\n",
       "       -4.1185389e-03, -5.5660428e-03, -5.9443391e-03,  2.2964284e-04,\n",
       "       -2.7749594e-03,  8.0197686e-03,  3.6312626e-03,  3.7049428e-03,\n",
       "        6.7250552e-03, -2.1518730e-03,  2.3944709e-03, -4.2096507e-03,\n",
       "       -8.6227385e-04, -2.4396188e-03,  2.6305442e-04,  1.7030099e-03,\n",
       "       -2.4310965e-04,  2.5716224e-03, -2.3646271e-03,  2.8042293e-03,\n",
       "       -1.6074367e-03,  1.9597975e-03, -1.7742476e-04, -1.5521133e-03,\n",
       "        2.9063178e-03, -6.6304114e-03,  2.1948814e-03,  1.7191801e-03,\n",
       "        4.7382058e-04, -9.2925113e-03,  7.4404133e-03,  3.8780270e-03,\n",
       "        7.6458072e-03, -3.2907636e-03, -8.4357327e-03, -7.9299032e-04,\n",
       "       -8.0548087e-03, -5.0454325e-04, -7.5218489e-04, -4.2926916e-03,\n",
       "       -4.4129849e-03,  1.9485051e-03,  4.5119175e-03, -3.2981385e-03,\n",
       "        4.0911031e-03,  4.3089199e-03, -6.7258072e-03, -6.6562667e-03,\n",
       "       -3.8830265e-03,  2.5385511e-03, -3.6336079e-03,  4.9335980e-03,\n",
       "        3.4991773e-03,  1.7623567e-03, -2.2741211e-04, -5.6816698e-03,\n",
       "       -4.9337889e-03,  3.1340260e-03, -2.1131644e-03, -1.0494570e-03,\n",
       "        5.1817016e-05, -1.0881622e-03,  3.7662401e-03,  2.5903082e-03,\n",
       "        1.4249344e-03, -8.6478610e-03, -1.8555095e-03, -6.9228797e-03,\n",
       "        1.7902101e-03, -5.8503990e-04, -2.4678193e-03,  6.2561813e-03],\n",
       "      dtype=float32)"
      ]
     },
     "execution_count": 17,
     "metadata": {},
     "output_type": "execute_result"
    }
   ],
   "source": [
    "# получить вектор для нового документа\n",
    "model.infer_vector(['Я', 'пришла', '.'])"
   ]
  },
  {
   "cell_type": "code",
   "execution_count": 20,
   "metadata": {},
   "outputs": [],
   "source": [
    "model_words = Word2Vec(clauses, size=100, window=5, min_count=3, sg=1, workers=cores, seed=SEED)"
   ]
  },
  {
   "cell_type": "code",
   "execution_count": 21,
   "metadata": {},
   "outputs": [],
   "source": [
    "model_docs.save('model_d.w2v')\n",
    "model_words.save('model_w.w2v')"
   ]
  }
 ],
 "metadata": {
  "kernelspec": {
   "display_name": "Python 3",
   "language": "python",
   "name": "python3"
  },
  "language_info": {
   "codemirror_mode": {
    "name": "ipython",
    "version": 3
   },
   "file_extension": ".py",
   "mimetype": "text/x-python",
   "name": "python",
   "nbconvert_exporter": "python",
   "pygments_lexer": "ipython3",
   "version": "3.6.4"
  }
 },
 "nbformat": 4,
 "nbformat_minor": 2
}
