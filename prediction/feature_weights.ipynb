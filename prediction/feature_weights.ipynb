{
 "cells": [
  {
   "cell_type": "code",
   "execution_count": 1,
   "metadata": {},
   "outputs": [],
   "source": [
    "import numpy as np\n",
    "import pandas as pd\n",
    "import pickle\n",
    "import regex as re\n",
    "from sklearn.model_selection import cross_val_predict\n",
    "import matplotlib.pyplot as plt\n",
    "%matplotlib inline"
   ]
  },
  {
   "cell_type": "code",
   "execution_count": 2,
   "metadata": {},
   "outputs": [],
   "source": [
    "from preprocessing.parse_rs3_make_objects import EDUPair, EDU\n",
    "from make_features import load_pairs_target_remove_minor_classes, generate_feature_matrix, get_feature_names"
   ]
  },
  {
   "cell_type": "code",
   "execution_count": 3,
   "metadata": {},
   "outputs": [],
   "source": [
    "def pickle_load(filepath):\n",
    "    with open(filepath, 'rb') as file:\n",
    "        res = pickle.load(file)\n",
    "    return res"
   ]
  },
  {
   "cell_type": "code",
   "execution_count": 4,
   "metadata": {},
   "outputs": [],
   "source": [
    "pairs,target = load_pairs_target_remove_minor_classes() "
   ]
  },
  {
   "cell_type": "code",
   "execution_count": 5,
   "metadata": {
    "scrolled": true
   },
   "outputs": [
    {
     "name": "stdout",
     "output_type": "stream",
     "text": [
      "19850\n"
     ]
    }
   ],
   "source": [
    "feature_names = get_feature_names(pairs)"
   ]
  },
  {
   "cell_type": "code",
   "execution_count": 7,
   "metadata": {},
   "outputs": [],
   "source": [
    "X_res = pickle_load('X_res.pkl')\n",
    "target_res = pickle_load('target_res.pkl')"
   ]
  },
  {
   "cell_type": "code",
   "execution_count": 8,
   "metadata": {},
   "outputs": [],
   "source": [
    "SEED=669"
   ]
  },
  {
   "cell_type": "code",
   "execution_count": 9,
   "metadata": {},
   "outputs": [],
   "source": [
    "## Random Forest\n",
    "from sklearn.ensemble import RandomForestClassifier\n",
    "rf = RandomForestClassifier(n_estimators=1500, random_state=SEED, n_jobs=4)"
   ]
  },
  {
   "cell_type": "code",
   "execution_count": 10,
   "metadata": {},
   "outputs": [
    {
     "data": {
      "text/plain": [
       "RandomForestClassifier(bootstrap=True, class_weight=None, criterion='gini',\n",
       "            max_depth=None, max_features='auto', max_leaf_nodes=None,\n",
       "            min_impurity_decrease=0.0, min_impurity_split=None,\n",
       "            min_samples_leaf=1, min_samples_split=2,\n",
       "            min_weight_fraction_leaf=0.0, n_estimators=1500, n_jobs=4,\n",
       "            oob_score=False, random_state=669, verbose=0, warm_start=False)"
      ]
     },
     "execution_count": 10,
     "metadata": {},
     "output_type": "execute_result"
    }
   ],
   "source": [
    "rf.fit(X_res, target_res)"
   ]
  },
  {
   "cell_type": "code",
   "execution_count": 12,
   "metadata": {},
   "outputs": [],
   "source": [
    "feature_weights = rf.feature_importances_"
   ]
  },
  {
   "cell_type": "code",
   "execution_count": 13,
   "metadata": {},
   "outputs": [
    {
     "data": {
      "text/plain": [
       "19850"
      ]
     },
     "execution_count": 13,
     "metadata": {},
     "output_type": "execute_result"
    }
   ],
   "source": [
    "len(feature_weights)"
   ]
  },
  {
   "cell_type": "code",
   "execution_count": 14,
   "metadata": {},
   "outputs": [],
   "source": [
    "del rf"
   ]
  },
  {
   "cell_type": "code",
   "execution_count": 15,
   "metadata": {},
   "outputs": [],
   "source": [
    "del X_res"
   ]
  },
  {
   "cell_type": "code",
   "execution_count": 16,
   "metadata": {},
   "outputs": [],
   "source": [
    "del pairs\n",
    "del target\n",
    "del target_res"
   ]
  },
  {
   "cell_type": "code",
   "execution_count": 18,
   "metadata": {},
   "outputs": [],
   "source": [
    "sorted_features = list(sorted(zip(feature_names, feature_weights), key = lambda x: x[1], reverse=True))"
   ]
  },
  {
   "cell_type": "code",
   "execution_count": 23,
   "metadata": {},
   "outputs": [
    {
     "name": "stdout",
     "output_type": "stream",
     "text": [
      "distance\t0.0033305388458672283\n",
      "condition1\t0.003308062776883384\n",
      "если1\t0.002897126889471026\n",
      "concession2\t0.0027885053612346916\n",
      "w2v2_first38\t0.0026446095116184165\n",
      "w2v2_first83\t0.002576431638401402\n",
      "если2\t0.002530403950587819\n",
      "w2v2_first86\t0.0025281218114773132\n",
      "edu1_position\t0.00249447828565371\n",
      "edu2_position\t0.0024897054989875132\n",
      "w2v2_first60\t0.0024689173627278037\n",
      "w2v2_first93\t0.0024270870713934242\n",
      "чтобы1\t0.0024244785348928625\n",
      "w2v2_first44\t0.0024181386559227963\n",
      "w2v2_first35\t0.002413961906669126\n",
      "w2v2_first28\t0.0023756205770968154\n",
      "w2v2_first84\t0.00237117423543528\n",
      "w2v2_first3\t0.0023543491131163157\n",
      "attribution2\t0.0023346886686786343\n",
      "cause-effect2\t0.0023179923983119343\n",
      "w2v2_first7\t0.002314788668072778\n",
      "condition2\t0.002297030522216999\n",
      "w2v2_first69\t0.0022726227124055085\n",
      "w2v2_first95\t0.0022620980264966275\n",
      "w2v2_first63\t0.0022510522157151427\n",
      "w2v2_first75\t0.0022390713039640592\n",
      "w2v2_first61\t0.0022233659169559527\n",
      "w2v2_first30\t0.0022081000513613537\n",
      "w2v2_first18\t0.0021971581590043724\n",
      "w2v2_first58\t0.002117942692876227\n",
      "несмотря2\t0.0021145675871803208\n",
      "w2v2_first66\t0.0021092062176591817\n",
      "w2v2_first96\t0.00209861733727899\n",
      "w2v2_first40\t0.0020712828681110082\n",
      "w2v2_first59\t0.0020708098901965925\n",
      "поскольку2\t0.002057233978298282\n",
      "w2v2_first88\t0.0020567811720179005\n",
      "w2v2_first92\t0.002056342600342764\n",
      "w2v2_first80\t0.002055008274552297\n",
      "w2v2_first52\t0.00205247530861448\n",
      "purpose1\t0.002038662302162012\n",
      "w2v2_first9\t0.00202649156761257\n",
      "w2v2_first77\t0.0020222357881778644\n",
      "w2v2_first90\t0.002013371655557934\n",
      "w2v2_first54\t0.0020123951080354657\n",
      "w2v2_first15\t0.0020111873254286894\n",
      "w2v2_first10\t0.0020078484962801793\n",
      "w2v2_first67\t0.0020020040866403615\n",
      "w2v2_first99\t0.0019974839662903346\n",
      "w2v2_first14\t0.0019940954915577433\n",
      "что2\t0.0019820815000484967\n",
      "w2v2_first82\t0.0019731969077966508\n",
      "w2v2_first89\t0.00196416743858135\n",
      "VERB1\t0.001960287578255289\n",
      "concession1\t0.001959279564252885\n",
      "w2v2_first23\t0.0019554956920423577\n",
      "w2v2_first56\t0.0019515757373161468\n",
      "w2v2_first62\t0.001944999457634582\n",
      "w2v2_first2\t0.0019407796868287587\n",
      "w2v2_first25\t0.001906663373087771\n",
      "w2v2_first97\t0.0018965610551245975\n",
      "w2v2_first11\t0.0018930424630875533\n",
      "w2v2_first20\t0.0018851890537608929\n",
      "несмотря1\t0.001872969896587435\n",
      "w2v2_first22\t0.0018454768326248085\n",
      "w2v2_first41\t0.0018408484451739374\n",
      "w2v2_first76\t0.0018392620210485675\n",
      "w2v2_first1\t0.0018234146926291643\n",
      "w2v2_first33\t0.0018212875900370656\n",
      "w2v2_first91\t0.0018005565938219198\n",
      "w2v2_first12\t0.0017849376708197152\n",
      "w2v2_first98\t0.0017717953216803864\n",
      "w2v2_first50\t0.001770982644572635\n",
      "w2v2_first37\t0.001754665233596259\n",
      "w2v2_first71\t0.0017542323917205695\n",
      "w2v2_first68\t0.0017539993230057845\n",
      "w2v2_first65\t0.001743945885632187\n",
      "w2v2_first78\t0.0017340050751528115\n",
      "w2v2_first42\t0.0017325466022022362\n",
      "w2v2_first45\t0.0017174567768698473\n",
      "w2v2_first19\t0.0017113435917546038\n",
      "w2v2_first36\t0.0017005869342144025\n",
      "w2v2_first8\t0.0016986853454571574\n",
      "w2v2_first39\t0.001679427229485511\n",
      "w2v2_first4\t0.0016738088830249025\n",
      "w2v2_first53\t0.001673405837675986\n",
      "w2v2_first29\t0.001672359904286899\n",
      "то2\t0.0016577591932986336\n",
      "w2v2_first0\t0.0016417474305974527\n",
      "w2v2_first55\t0.0016398704914787415\n",
      "w2v2_first94\t0.0016325304316880123\n",
      "w2v2_first32\t0.0016263264802499698\n",
      "w2v2_first49\t0.0016225154610940823\n",
      "w2v2_first26\t0.0016207816802040372\n",
      "несмотря на1\t0.0015901153912036617\n",
      "w2v2_first64\t0.0015834630849615443\n",
      "w2v2_first87\t0.0015827003352633445\n",
      "чтобы2\t0.0015740706096916887\n",
      "w2v2_first72\t0.0015666978928172153\n",
      "w2v2_first48\t0.0015659508741162579\n",
      "w2v2_first79\t0.0015651270000937207\n",
      "w2v2_first24\t0.001563762794831687\n",
      "edu2_len\t0.0015609970214864933\n",
      "w2v2_first51\t0.0015502610601837855\n",
      "w2v2_first27\t0.0015497220316382553\n",
      "w2v2_first47\t0.001545410219828713\n",
      "w2v2_first21\t0.0015378092820257005\n",
      "w2v2_first70\t0.0015342720031462156\n",
      "w2v2_first73\t0.001513781912462461\n",
      "w2v2_first74\t0.0015128073020285579\n",
      "w2v2_first85\t0.001500062681492045\n",
      "w2v2_first57\t0.001493141629873481\n",
      "w2v2_first17\t0.0014846896595605641\n",
      "w2v2_first16\t0.0014788626326272388\n",
      "purpose2\t0.0014689194080281952\n",
      "w2v2_first13\t0.0014674809074326919\n",
      "w2v2_first5\t0.0014636726805851478\n",
      "w2v2_first31\t0.0014445076975658745\n",
      "contrast2\t0.0014283674246986253\n",
      "w2v2_first34\t0.0014122596891413765\n",
      "edu1_len\t0.0014004111984512698\n",
      "attribution1\t0.0013927764046720624\n",
      "w2v2_first6\t0.001388101893583193\n",
      "w2v2_first43\t0.0013672780587760302\n",
      "несмотря на2\t0.0013576901685086807\n",
      "CCONJ VERB NOUN1\t0.0013223862719302225\n",
      "w2v2_first46\t0.00132016310403311\n",
      "w2v2_first81\t0.0013079168810399366\n",
      "хотя2\t0.0012380228922369018\n",
      "PRON2\t0.001219062391531252\n",
      "NOUN2\t0.0012146188002831342\n",
      "VERB2\t0.0011927659448609873\n",
      "CCONJ2\t0.0011655519905041018\n",
      "ADJ2\t0.0011490822360207295\n",
      "unknown1\t0.0011278087039477563\n",
      "NOUN1\t0.0011175402006049604\n",
      "ADV ADP1\t0.001115889394812157\n",
      "CCONJ VERB1\t0.0010445497359013358\n",
      "касается1\t0.001023897477768097\n",
      "PRON NOUN2\t0.0010136943772459206\n",
      "PART2\t0.001008356384760385\n",
      "d2v11\t0.0009722894709637231\n",
      "ADJ1\t0.000970489448748517\n",
      "d2v143\t0.0009554025951740251\n",
      "d2v26\t0.0009480009150797776\n",
      "NOUN unknown2\t0.0009474850908242729\n",
      "d2v233\t0.0009431224039427662\n",
      "d2v178\t0.0009411305511729958\n",
      "d2v196\t0.0009367407384834504\n",
      "d2v270\t0.0009364257441942223\n"
     ]
    }
   ],
   "source": [
    "for tup in sorted_features[:150]:\n",
    "    print('\\t'.join(map(str, tup)))"
   ]
  },
  {
   "cell_type": "code",
   "execution_count": null,
   "metadata": {},
   "outputs": [],
   "source": []
  }
 ],
 "metadata": {
  "kernelspec": {
   "display_name": "Python 3",
   "language": "python",
   "name": "python3"
  },
  "language_info": {
   "codemirror_mode": {
    "name": "ipython",
    "version": 3
   },
   "file_extension": ".py",
   "mimetype": "text/x-python",
   "name": "python",
   "nbconvert_exporter": "python",
   "pygments_lexer": "ipython3",
   "version": "3.6.4"
  }
 },
 "nbformat": 4,
 "nbformat_minor": 2
}
