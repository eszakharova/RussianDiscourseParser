{
 "cells": [
  {
   "cell_type": "code",
   "execution_count": 1,
   "metadata": {},
   "outputs": [],
   "source": [
    "import numpy as np\n",
    "import pandas as pd\n",
    "import pickle\n",
    "import regex as re\n",
    "from sklearn.model_selection import cross_val_predict"
   ]
  },
  {
   "cell_type": "code",
   "execution_count": 2,
   "metadata": {},
   "outputs": [],
   "source": [
    "from preprocessing.parse_rs3_make_objects import EDUPair, EDU\n",
    "from make_features import load_pairs_target_remove_minor_classes, generate_feature_matrix, \\\n",
    "all_classification_reports, smote_oversampling, smote_oversampling5"
   ]
  },
  {
   "cell_type": "code",
   "execution_count": 3,
   "metadata": {},
   "outputs": [],
   "source": [
    "# придется убрать классы, в которых меньше 3 объектов, а то все плохо\n",
    "pairs,target = load_pairs_target_remove_minor_classes() "
   ]
  },
  {
   "cell_type": "code",
   "execution_count": 4,
   "metadata": {
    "scrolled": false
   },
   "outputs": [
    {
     "name": "stdout",
     "output_type": "stream",
     "text": [
      "(4672, 6835)\n"
     ]
    }
   ],
   "source": [
    "X = generate_feature_matrix(pairs)"
   ]
  },
  {
   "cell_type": "code",
   "execution_count": 5,
   "metadata": {},
   "outputs": [
    {
     "name": "stdout",
     "output_type": "stream",
     "text": [
      "(48516, 6835)\n"
     ]
    }
   ],
   "source": [
    "# oversampling 5 neighbors\n",
    "X_res, target_res = smote_oversampling5(X, target) "
   ]
  },
  {
   "cell_type": "code",
   "execution_count": 22,
   "metadata": {},
   "outputs": [],
   "source": [
    "from sklearn.model_selection import train_test_split\n",
    "X_train, X_test, y_train, y_test = train_test_split(X, target,\n",
    "                                                    stratify=target, \n",
    "                                                    test_size=0.25, random_state=SEED)"
   ]
  },
  {
   "cell_type": "code",
   "execution_count": 23,
   "metadata": {
    "scrolled": true
   },
   "outputs": [
    {
     "name": "stdout",
     "output_type": "stream",
     "text": [
      "(36400, 6835)\n"
     ]
    }
   ],
   "source": [
    "X_train_res, y_train_res = smote_oversampling(X_train, y_train)"
   ]
  },
  {
   "cell_type": "code",
   "execution_count": 8,
   "metadata": {},
   "outputs": [],
   "source": [
    "SEED=669"
   ]
  },
  {
   "cell_type": "code",
   "execution_count": 9,
   "metadata": {},
   "outputs": [],
   "source": [
    "## Random Forest\n",
    "from sklearn.ensemble import RandomForestClassifier\n",
    "rf = RandomForestClassifier(n_estimators=1500, random_state=SEED)"
   ]
  },
  {
   "cell_type": "markdown",
   "metadata": {},
   "source": [
    "## Cross_val"
   ]
  },
  {
   "cell_type": "code",
   "execution_count": 10,
   "metadata": {},
   "outputs": [
    {
     "name": "stderr",
     "output_type": "stream",
     "text": [
      "[Parallel(n_jobs=1)]: Done   1 out of   1 | elapsed: 71.9min remaining:    0.0s\n",
      "[Parallel(n_jobs=1)]: Done   2 out of   2 | elapsed: 155.1min remaining:    0.0s\n",
      "[Parallel(n_jobs=1)]: Done   3 out of   3 | elapsed: 247.9min remaining:    0.0s\n",
      "[Parallel(n_jobs=1)]: Done   4 out of   4 | elapsed: 343.2min remaining:    0.0s\n",
      "[Parallel(n_jobs=1)]: Done   5 out of   5 | elapsed: 446.2min remaining:    0.0s\n",
      "[Parallel(n_jobs=1)]: Done   5 out of   5 | elapsed: 446.8min finished\n"
     ]
    },
    {
     "name": "stdout",
     "output_type": "stream",
     "text": [
      "All together:\n",
      "                              precision    recall  f1-score   support\n",
      "\n",
      "              attribution_NS       0.97      1.00      0.99      1866\n",
      "              attribution_SN       0.93      0.99      0.96      1866\n",
      "               background_NS       0.99      1.00      0.99      1866\n",
      "               background_SN       1.00      1.00      1.00      1866\n",
      "             cause-effect_NS       0.98      1.00      0.99      1866\n",
      "             cause-effect_SN       0.98      0.99      0.99      1866\n",
      "                comparison_M       0.99      1.00      0.99      1866\n",
      "               concession_NS       0.99      1.00      0.99      1866\n",
      "               concession_SN       1.00      1.00      1.00      1866\n",
      "                condition_NS       0.99      1.00      0.99      1866\n",
      "                condition_SN       0.98      1.00      0.99      1866\n",
      "                  contrast_M       0.95      0.99      0.97      1866\n",
      "              elaboration_NS       0.80      0.85      0.83      1866\n",
      "              elaboration_SN       0.99      1.00      0.99      1866\n",
      "                 evidence_NS       1.00      1.00      1.00      1866\n",
      "                 evidence_SN       1.00      1.00      1.00      1866\n",
      "interpretation-evaluation_NS       1.00      1.00      1.00      1866\n",
      "interpretation-evaluation_SN       0.99      1.00      1.00      1866\n",
      "                     joint_M       0.84      0.83      0.84      1866\n",
      "                 no_relation       0.73      0.44      0.55      1866\n",
      "              preparation_SN       1.00      1.00      1.00      1866\n",
      "                  purpose_NS       0.97      1.00      0.99      1866\n",
      "                  purpose_SN       1.00      1.00      1.00      1866\n",
      "               restatement_M       1.00      1.00      1.00      1866\n",
      "                 same-unit_M       0.90      0.97      0.94      1866\n",
      "                  sequence_M       0.99      1.00      0.99      1866\n",
      "\n",
      "                 avg / total       0.96      0.96      0.96     48516\n",
      "\n",
      "Relation type:\n",
      "                           precision    recall  f1-score   support\n",
      "\n",
      "              attribution       0.95      1.00      0.97      3732\n",
      "               background       0.99      1.00      1.00      3732\n",
      "             cause-effect       0.98      0.99      0.99      3732\n",
      "               comparison       0.99      1.00      0.99      1866\n",
      "               concession       0.99      1.00      1.00      3732\n",
      "                condition       0.98      1.00      0.99      3732\n",
      "                 contrast       0.95      0.99      0.97      1866\n",
      "              elaboration       0.90      0.92      0.91      3732\n",
      "                 evidence       1.00      1.00      1.00      3732\n",
      "interpretation-evaluation       1.00      1.00      1.00      3732\n",
      "                    joint       0.84      0.83      0.84      1866\n",
      "              no_relation       0.73      0.44      0.55      1866\n",
      "              preparation       1.00      1.00      1.00      1866\n",
      "                  purpose       0.99      1.00      0.99      3732\n",
      "              restatement       1.00      1.00      1.00      1866\n",
      "                same-unit       0.90      0.97      0.94      1866\n",
      "                 sequence       0.99      1.00      0.99      1866\n",
      "\n",
      "              avg / total       0.96      0.96      0.96     48516\n",
      "\n",
      "Nuclearity:\n",
      "             precision    recall  f1-score   support\n",
      "\n",
      "          M       0.96      0.97      0.96     11196\n",
      "         NS       0.97      0.98      0.97     16794\n",
      "         SN       0.99      1.00      0.99     18660\n",
      "no_relation       0.73      0.44      0.55      1866\n",
      "\n",
      "avg / total       0.96      0.97      0.96     48516\n",
      "\n",
      "Presence of relation:\n",
      "             precision    recall  f1-score   support\n",
      "\n",
      "no_relation       0.73      0.44      0.55      1866\n",
      "   relation       0.98      0.99      0.99     46650\n",
      "\n",
      "avg / total       0.97      0.97      0.97     48516\n",
      "\n"
     ]
    }
   ],
   "source": [
    "pred_rf_cv = cross_val_predict(rf, X_res, target_res, cv=5, verbose=10)\n",
    "all_classification_reports(target_res, pred_rf_cv)"
   ]
  },
  {
   "cell_type": "markdown",
   "metadata": {},
   "source": [
    "## Train/test"
   ]
  },
  {
   "cell_type": "code",
   "execution_count": 24,
   "metadata": {},
   "outputs": [],
   "source": [
    "rf.fit(X_train_res, y_train_res)\n",
    "y_pred = rf.predict(X_test)"
   ]
  },
  {
   "cell_type": "code",
   "execution_count": 25,
   "metadata": {
    "scrolled": false
   },
   "outputs": [
    {
     "name": "stdout",
     "output_type": "stream",
     "text": [
      "All together:\n"
     ]
    },
    {
     "name": "stderr",
     "output_type": "stream",
     "text": [
      "/home/lena/anaconda3/lib/python3.6/site-packages/sklearn/metrics/classification.py:1135: UndefinedMetricWarning: Precision and F-score are ill-defined and being set to 0.0 in labels with no predicted samples.\n",
      "  'precision', 'predicted', average, warn_for)\n"
     ]
    },
    {
     "name": "stdout",
     "output_type": "stream",
     "text": [
      "                              precision    recall  f1-score   support\n",
      "\n",
      "              attribution_NS       0.33      0.18      0.24        11\n",
      "              attribution_SN       0.43      0.61      0.51        38\n",
      "               background_NS       0.00      0.00      0.00         9\n",
      "               background_SN       0.00      0.00      0.00        10\n",
      "             cause-effect_NS       0.67      0.30      0.41        20\n",
      "             cause-effect_SN       0.50      0.05      0.09        21\n",
      "                comparison_M       1.00      0.17      0.29        12\n",
      "               concession_NS       0.33      0.43      0.38         7\n",
      "               concession_SN       1.00      0.14      0.25         7\n",
      "                condition_NS       0.40      0.20      0.27        10\n",
      "                condition_SN       0.55      0.33      0.41        18\n",
      "                  contrast_M       0.36      0.29      0.32        35\n",
      "              elaboration_NS       0.42      0.60      0.49       181\n",
      "              elaboration_SN       0.00      0.00      0.00        16\n",
      "                 evidence_NS       0.00      0.00      0.00         7\n",
      "                 evidence_SN       0.00      0.00      0.00         4\n",
      "interpretation-evaluation_NS       1.00      0.33      0.50         3\n",
      "interpretation-evaluation_SN       0.00      0.00      0.00         9\n",
      "                     joint_M       0.61      0.55      0.58       184\n",
      "                 no_relation       0.54      0.63      0.58       466\n",
      "              preparation_SN       0.00      0.00      0.00         2\n",
      "                  purpose_NS       0.56      0.67      0.61        15\n",
      "                  purpose_SN       0.00      0.00      0.00         7\n",
      "               restatement_M       0.00      0.00      0.00         6\n",
      "                 same-unit_M       0.23      0.19      0.20        54\n",
      "                  sequence_M       0.50      0.06      0.11        16\n",
      "\n",
      "                 avg / total       0.48      0.50      0.47      1168\n",
      "\n",
      "Relation type:\n",
      "                           precision    recall  f1-score   support\n",
      "\n",
      "              attribution       0.42      0.51      0.46        49\n",
      "               background       0.00      0.00      0.00        19\n",
      "             cause-effect       0.73      0.20      0.31        41\n",
      "               comparison       1.00      0.17      0.29        12\n",
      "               concession       0.40      0.29      0.33        14\n",
      "                condition       0.50      0.29      0.36        28\n",
      "                 contrast       0.36      0.29      0.32        35\n",
      "              elaboration       0.44      0.59      0.51       197\n",
      "                 evidence       0.00      0.00      0.00        11\n",
      "interpretation-evaluation       0.50      0.08      0.14        12\n",
      "                    joint       0.61      0.55      0.58       184\n",
      "              no_relation       0.54      0.63      0.58       466\n",
      "              preparation       0.00      0.00      0.00         2\n",
      "                  purpose       0.61      0.50      0.55        22\n",
      "              restatement       0.00      0.00      0.00         6\n",
      "                same-unit       0.23      0.19      0.20        54\n",
      "                 sequence       0.50      0.06      0.11        16\n",
      "\n",
      "              avg / total       0.50      0.51      0.49      1168\n",
      "\n",
      "Nuclearity:\n",
      "             precision    recall  f1-score   support\n",
      "\n",
      "          M       0.64      0.50      0.56       307\n",
      "         NS       0.47      0.56      0.51       263\n",
      "         SN       0.51      0.27      0.36       132\n",
      "no_relation       0.54      0.63      0.58       466\n",
      "\n",
      "avg / total       0.55      0.54      0.54      1168\n",
      "\n",
      "Presence of relation:\n",
      "             precision    recall  f1-score   support\n",
      "\n",
      "no_relation       0.54      0.63      0.58       466\n",
      "   relation       0.73      0.64      0.68       702\n",
      "\n",
      "avg / total       0.65      0.64      0.64      1168\n",
      "\n"
     ]
    }
   ],
   "source": [
    "all_classification_reports(y_test, y_pred)"
   ]
  },
  {
   "cell_type": "code",
   "execution_count": null,
   "metadata": {},
   "outputs": [],
   "source": []
  }
 ],
 "metadata": {
  "kernelspec": {
   "display_name": "Python 3",
   "language": "python",
   "name": "python3"
  },
  "language_info": {
   "codemirror_mode": {
    "name": "ipython",
    "version": 3
   },
   "file_extension": ".py",
   "mimetype": "text/x-python",
   "name": "python",
   "nbconvert_exporter": "python",
   "pygments_lexer": "ipython3",
   "version": "3.6.4"
  }
 },
 "nbformat": 4,
 "nbformat_minor": 2
}
