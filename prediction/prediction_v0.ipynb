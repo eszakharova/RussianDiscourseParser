{
 "cells": [
  {
   "cell_type": "code",
   "execution_count": 1,
   "metadata": {},
   "outputs": [],
   "source": [
    "import numpy as np\n",
    "import pandas as pd\n",
    "import pickle\n",
    "import regex as re"
   ]
  },
  {
   "cell_type": "code",
   "execution_count": 2,
   "metadata": {},
   "outputs": [],
   "source": [
    "from preprocessing.parse_rs3_make_objects import EDUPair, EDU\n",
    "from make_features import load_pairs_target"
   ]
  },
  {
   "cell_type": "code",
   "execution_count": 3,
   "metadata": {},
   "outputs": [],
   "source": [
    "data_raw = pd.read_csv('../all_data.csv', sep=';')"
   ]
  },
  {
   "cell_type": "code",
   "execution_count": 4,
   "metadata": {
    "scrolled": true
   },
   "outputs": [
    {
     "data": {
      "text/html": [
       "<div>\n",
       "<style scoped>\n",
       "    .dataframe tbody tr th:only-of-type {\n",
       "        vertical-align: middle;\n",
       "    }\n",
       "\n",
       "    .dataframe tbody tr th {\n",
       "        vertical-align: top;\n",
       "    }\n",
       "\n",
       "    .dataframe thead th {\n",
       "        text-align: right;\n",
       "    }\n",
       "</style>\n",
       "<table border=\"1\" class=\"dataframe\">\n",
       "  <thead>\n",
       "    <tr style=\"text-align: right;\">\n",
       "      <th></th>\n",
       "      <th>EDU1_pos</th>\n",
       "      <th>EDU1_text</th>\n",
       "      <th>EDU2_pos</th>\n",
       "      <th>EDU2_text</th>\n",
       "      <th>Text_id</th>\n",
       "      <th>Relation</th>\n",
       "    </tr>\n",
       "  </thead>\n",
       "  <tbody>\n",
       "    <tr>\n",
       "      <th>0</th>\n",
       "      <td>1</td>\n",
       "      <td>##### Внутри 22-й Московской международной кни...</td>\n",
       "      <td>2</td>\n",
       "      <td>проходившей в начале сентября 2009 года на ВВЦ,</td>\n",
       "      <td>0</td>\n",
       "      <td>elaboration_NS</td>\n",
       "    </tr>\n",
       "    <tr>\n",
       "      <th>1</th>\n",
       "      <td>1</td>\n",
       "      <td>##### Внутри 22-й Московской международной кни...</td>\n",
       "      <td>3</td>\n",
       "      <td>работала внутренняя выставка — «Книгабайт»,</td>\n",
       "      <td>0</td>\n",
       "      <td>no_relation</td>\n",
       "    </tr>\n",
       "    <tr>\n",
       "      <th>2</th>\n",
       "      <td>1</td>\n",
       "      <td>##### Внутри 22-й Московской международной кни...</td>\n",
       "      <td>4</td>\n",
       "      <td>посвящённая электронному книгоизданию.</td>\n",
       "      <td>0</td>\n",
       "      <td>no_relation</td>\n",
       "    </tr>\n",
       "    <tr>\n",
       "      <th>3</th>\n",
       "      <td>2</td>\n",
       "      <td>проходившей в начале сентября 2009 года на ВВЦ,</td>\n",
       "      <td>3</td>\n",
       "      <td>работала внутренняя выставка — «Книгабайт»,</td>\n",
       "      <td>0</td>\n",
       "      <td>no_relation</td>\n",
       "    </tr>\n",
       "    <tr>\n",
       "      <th>4</th>\n",
       "      <td>2</td>\n",
       "      <td>проходившей в начале сентября 2009 года на ВВЦ,</td>\n",
       "      <td>4</td>\n",
       "      <td>посвящённая электронному книгоизданию.</td>\n",
       "      <td>0</td>\n",
       "      <td>no_relation</td>\n",
       "    </tr>\n",
       "    <tr>\n",
       "      <th>5</th>\n",
       "      <td>3</td>\n",
       "      <td>работала внутренняя выставка — «Книгабайт»,</td>\n",
       "      <td>4</td>\n",
       "      <td>посвящённая электронному книгоизданию.</td>\n",
       "      <td>0</td>\n",
       "      <td>elaboration_NS</td>\n",
       "    </tr>\n",
       "    <tr>\n",
       "      <th>6</th>\n",
       "      <td>5</td>\n",
       "      <td>И хотя место экспозиция занимала скромное,</td>\n",
       "      <td>6</td>\n",
       "      <td>да и участников у неё тоже немного,</td>\n",
       "      <td>0</td>\n",
       "      <td>joint_M</td>\n",
       "    </tr>\n",
       "    <tr>\n",
       "      <th>7</th>\n",
       "      <td>5</td>\n",
       "      <td>И хотя место экспозиция занимала скромное,</td>\n",
       "      <td>7</td>\n",
       "      <td>но по их бодрым, в отличие от большинства изда...</td>\n",
       "      <td>0</td>\n",
       "      <td>concession_SN</td>\n",
       "    </tr>\n",
       "    <tr>\n",
       "      <th>8</th>\n",
       "      <td>6</td>\n",
       "      <td>да и участников у неё тоже немного,</td>\n",
       "      <td>7</td>\n",
       "      <td>но по их бодрым, в отличие от большинства изда...</td>\n",
       "      <td>0</td>\n",
       "      <td>concession_SN</td>\n",
       "    </tr>\n",
       "    <tr>\n",
       "      <th>9</th>\n",
       "      <td>10</td>\n",
       "      <td>Точнее, услышать что-либо было вообще сложно,</td>\n",
       "      <td>11</td>\n",
       "      <td>поскольку издатели книг бумажных пустились во ...</td>\n",
       "      <td>0</td>\n",
       "      <td>cause-effect_NS</td>\n",
       "    </tr>\n",
       "  </tbody>\n",
       "</table>\n",
       "</div>"
      ],
      "text/plain": [
       "   EDU1_pos                                          EDU1_text  EDU2_pos  \\\n",
       "0         1  ##### Внутри 22-й Московской международной кни...         2   \n",
       "1         1  ##### Внутри 22-й Московской международной кни...         3   \n",
       "2         1  ##### Внутри 22-й Московской международной кни...         4   \n",
       "3         2    проходившей в начале сентября 2009 года на ВВЦ,         3   \n",
       "4         2    проходившей в начале сентября 2009 года на ВВЦ,         4   \n",
       "5         3        работала внутренняя выставка — «Книгабайт»,         4   \n",
       "6         5         И хотя место экспозиция занимала скромное,         6   \n",
       "7         5         И хотя место экспозиция занимала скромное,         7   \n",
       "8         6                да и участников у неё тоже немного,         7   \n",
       "9        10      Точнее, услышать что-либо было вообще сложно,        11   \n",
       "\n",
       "                                           EDU2_text  Text_id         Relation  \n",
       "0    проходившей в начале сентября 2009 года на ВВЦ,        0   elaboration_NS  \n",
       "1        работала внутренняя выставка — «Книгабайт»,        0      no_relation  \n",
       "2             посвящённая электронному книгоизданию.        0      no_relation  \n",
       "3        работала внутренняя выставка — «Книгабайт»,        0      no_relation  \n",
       "4             посвящённая электронному книгоизданию.        0      no_relation  \n",
       "5             посвящённая электронному книгоизданию.        0   elaboration_NS  \n",
       "6                да и участников у неё тоже немного,        0          joint_M  \n",
       "7  но по их бодрым, в отличие от большинства изда...        0    concession_SN  \n",
       "8  но по их бодрым, в отличие от большинства изда...        0    concession_SN  \n",
       "9  поскольку издатели книг бумажных пустились во ...        0  cause-effect_NS  "
      ]
     },
     "execution_count": 4,
     "metadata": {},
     "output_type": "execute_result"
    }
   ],
   "source": [
    "data_raw.head(10)"
   ]
  },
  {
   "cell_type": "code",
   "execution_count": 5,
   "metadata": {},
   "outputs": [
    {
     "name": "stdout",
     "output_type": "stream",
     "text": [
      "evaluation_NS\n",
      "antithesis_SN\n",
      "Counter({'no_relation': 1866, 'joint_M': 737, 'elaboration_NS': 723, 'same-unit_M': 216, 'attribution_SN': 152, 'contrast_M': 139, 'cause-effect_SN': 82, 'cause-effect_NS': 81, 'condition_SN': 71, 'sequence_M': 66, 'elaboration_SN': 64, 'purpose_NS': 60, 'comparison_M': 47, 'attribution_NS': 44, 'background_SN': 40, 'condition_NS': 38, 'interpretation-evaluation_SN': 37, 'background_NS': 35, 'concession_SN': 29, 'evidence_NS': 28, 'purpose_SN': 28, 'concession_NS': 26, 'restatement_M': 24, 'evidence_SN': 16, 'interpretation-evaluation_NS': 14, 'preparation_SN': 9, 'solutionhood_SN': 2, 'antithesis_NS': 2, 'evaluation_NS': 1, 'antithesis_SN': 1})\n"
     ]
    }
   ],
   "source": [
    "pairs,target = load_pairs_target() "
   ]
  },
  {
   "cell_type": "markdown",
   "metadata": {},
   "source": [
    "## Анализ данных"
   ]
  },
  {
   "cell_type": "code",
   "execution_count": 6,
   "metadata": {
    "scrolled": false
   },
   "outputs": [
    {
     "data": {
      "text/plain": [
       "4676"
      ]
     },
     "execution_count": 6,
     "metadata": {},
     "output_type": "execute_result"
    }
   ],
   "source": [
    "len(target)"
   ]
  },
  {
   "cell_type": "code",
   "execution_count": 7,
   "metadata": {
    "scrolled": true
   },
   "outputs": [
    {
     "data": {
      "text/plain": [
       "no_relation                     1866\n",
       "joint_M                          737\n",
       "elaboration_NS                   723\n",
       "same-unit_M                      216\n",
       "attribution_SN                   152\n",
       "contrast_M                       139\n",
       "cause-effect_SN                   82\n",
       "cause-effect_NS                   81\n",
       "condition_SN                      71\n",
       "sequence_M                        66\n",
       "elaboration_SN                    64\n",
       "purpose_NS                        60\n",
       "comparison_M                      47\n",
       "attribution_NS                    44\n",
       "background_SN                     40\n",
       "condition_NS                      38\n",
       "interpretation-evaluation_SN      37\n",
       "background_NS                     35\n",
       "concession_SN                     29\n",
       "evidence_NS                       28\n",
       "purpose_SN                        28\n",
       "concession_NS                     26\n",
       "restatement_M                     24\n",
       "evidence_SN                       16\n",
       "interpretation-evaluation_NS      14\n",
       "preparation_SN                     9\n",
       "antithesis_NS                      2\n",
       "solutionhood_SN                    2\n",
       "dtype: int64"
      ]
     },
     "execution_count": 7,
     "metadata": {},
     "output_type": "execute_result"
    }
   ],
   "source": [
    "pd.Series(target).value_counts()"
   ]
  },
  {
   "cell_type": "code",
   "execution_count": 9,
   "metadata": {
    "scrolled": true
   },
   "outputs": [
    {
     "data": {
      "text/plain": [
       "<matplotlib.axes._subplots.AxesSubplot at 0x7f0efd094588>"
      ]
     },
     "execution_count": 9,
     "metadata": {},
     "output_type": "execute_result"
    },
    {
     "data": {
      "image/png": "[encoded data removed]",
      "text/plain": [
       "<matplotlib.figure.Figure at 0x7f0efd07b390>"
      ]
     },
     "metadata": {},
     "output_type": "display_data"
    }
   ],
   "source": [
    "pd.Series(target).value_counts().plot(kind='bar', figsize = (10, 7))"
   ]
  },
  {
   "cell_type": "markdown",
   "metadata": {},
   "source": [
    "## Признаки"
   ]
  },
  {
   "cell_type": "code",
   "execution_count": 10,
   "metadata": {},
   "outputs": [],
   "source": [
    "from nltk import word_tokenize\n",
    "from sklearn.feature_extraction.text import CountVectorizer\n",
    "from scipy.sparse import csr_matrix, hstack"
   ]
  },
  {
   "cell_type": "code",
   "execution_count": 11,
   "metadata": {},
   "outputs": [],
   "source": [
    "def iterate_pos(pos_list):\n",
    "    for pos in pos_list:\n",
    "        yield pos"
   ]
  },
  {
   "cell_type": "code",
   "execution_count": 12,
   "metadata": {},
   "outputs": [],
   "source": [
    "c_vect = CountVectorizer(min_df=5, tokenizer=word_tokenize)\n",
    "pos_vect = CountVectorizer(tokenizer=iterate_pos, lowercase=False)\n",
    "DataDict = {'edu1_position' : [],\n",
    "    'edu2_position': [],\n",
    "    'edu1_endsent' : [], \n",
    "    'edu1_startsent' : [],\n",
    "    'edu2_endsent' : [], \n",
    "    'edu2_startsent' : [], \n",
    "    'edu1_len' : [], \n",
    "    'edu2_len' : [] }\n",
    "for pair in pairs:\n",
    "    DataDict['edu1_position'].append(int(pair.edu1.position))\n",
    "    DataDict['edu2_position'].append(int(pair.edu2.position))\n",
    "    DataDict['edu1_endsent'].append(int(pair.edu1.sentence_end))\n",
    "    DataDict['edu2_endsent'].append(int(pair.edu2.sentence_end))\n",
    "    DataDict['edu1_startsent'].append(int(pair.edu1.sentence_start))\n",
    "    DataDict['edu2_startsent'].append(int(pair.edu2.sentence_start))\n",
    "    DataDict['edu1_len'].append(len(pair.edu1.tokens))\n",
    "    DataDict['edu2_len'].append(len(pair.edu2.tokens))"
   ]
  },
  {
   "cell_type": "code",
   "execution_count": 13,
   "metadata": {},
   "outputs": [],
   "source": [
    "X = pd.DataFrame(DataDict)"
   ]
  },
  {
   "cell_type": "code",
   "execution_count": 14,
   "metadata": {},
   "outputs": [],
   "source": [
    "all_texts = [pair.edu1.text for pair in pairs]+[pair.edu2.text for pair in pairs]\n",
    "c_vect.fit(all_texts)\n",
    "edus1_vect = c_vect.transform([pair.edu1.text for pair in pairs])\n",
    "edus2_vect = c_vect.transform([pair.edu2.text for pair in pairs])"
   ]
  },
  {
   "cell_type": "code",
   "execution_count": 15,
   "metadata": {},
   "outputs": [],
   "source": [
    "all_pos = [pair.edu1.pos for pair in pairs]+[pair.edu2.pos for pair in pairs]\n",
    "pos_vect.fit(all_pos)\n",
    "pos1_vect = pos_vect.transform([pair.edu1.pos for pair in pairs])\n",
    "pos2_vect = pos_vect.transform([pair.edu2.pos for pair in pairs])"
   ]
  },
  {
   "cell_type": "code",
   "execution_count": 16,
   "metadata": {
    "scrolled": true
   },
   "outputs": [],
   "source": [
    "X_sparse = csr_matrix(np.array(X))"
   ]
  },
  {
   "cell_type": "code",
   "execution_count": 17,
   "metadata": {},
   "outputs": [],
   "source": [
    "X_concat = hstack((X_sparse, edus1_vect, edus2_vect, pos1_vect, pos2_vect))"
   ]
  },
  {
   "cell_type": "code",
   "execution_count": 18,
   "metadata": {
    "scrolled": true
   },
   "outputs": [
    {
     "data": {
      "text/plain": [
       "(4676, 6252)"
      ]
     },
     "execution_count": 18,
     "metadata": {},
     "output_type": "execute_result"
    }
   ],
   "source": [
    "X_concat.shape"
   ]
  },
  {
   "cell_type": "markdown",
   "metadata": {},
   "source": [
    "## Oversampling minority classes with SMOTE"
   ]
  },
  {
   "cell_type": "code",
   "execution_count": 19,
   "metadata": {},
   "outputs": [],
   "source": [
    "from imblearn.over_sampling import SMOTE"
   ]
  },
  {
   "cell_type": "code",
   "execution_count": 29,
   "metadata": {},
   "outputs": [],
   "source": [
    "sm = SMOTE(random_state=669, k_neighbors=1)"
   ]
  },
  {
   "cell_type": "code",
   "execution_count": 30,
   "metadata": {},
   "outputs": [],
   "source": [
    "X_res, y_res = sm.fit_sample(X_concat, target)"
   ]
  },
  {
   "cell_type": "code",
   "execution_count": 31,
   "metadata": {
    "scrolled": true
   },
   "outputs": [
    {
     "data": {
      "text/plain": [
       "(52248, 6252)"
      ]
     },
     "execution_count": 31,
     "metadata": {},
     "output_type": "execute_result"
    }
   ],
   "source": [
    "X_res.shape"
   ]
  },
  {
   "cell_type": "code",
   "execution_count": 32,
   "metadata": {},
   "outputs": [
    {
     "data": {
      "text/plain": [
       "joint_M                         1866\n",
       "sequence_M                      1866\n",
       "interpretation-evaluation_NS    1866\n",
       "preparation_SN                  1866\n",
       "condition_SN                    1866\n",
       "interpretation-evaluation_SN    1866\n",
       "antithesis_NS                   1866\n",
       "purpose_NS                      1866\n",
       "elaboration_SN                  1866\n",
       "concession_SN                   1866\n",
       "attribution_SN                  1866\n",
       "condition_NS                    1866\n",
       "cause-effect_NS                 1866\n",
       "contrast_M                      1866\n",
       "no_relation                     1866\n",
       "attribution_NS                  1866\n",
       "background_NS                   1866\n",
       "cause-effect_SN                 1866\n",
       "background_SN                   1866\n",
       "same-unit_M                     1866\n",
       "evidence_SN                     1866\n",
       "restatement_M                   1866\n",
       "elaboration_NS                  1866\n",
       "evidence_NS                     1866\n",
       "solutionhood_SN                 1866\n",
       "purpose_SN                      1866\n",
       "comparison_M                    1866\n",
       "concession_NS                   1866\n",
       "dtype: int64"
      ]
     },
     "execution_count": 32,
     "metadata": {},
     "output_type": "execute_result"
    }
   ],
   "source": [
    "pd.Series(y_res).value_counts()"
   ]
  },
  {
   "cell_type": "code",
   "execution_count": 33,
   "metadata": {},
   "outputs": [
    {
     "data": {
      "text/plain": [
       "<matplotlib.axes._subplots.AxesSubplot at 0x7f0efc6c5320>"
      ]
     },
     "execution_count": 33,
     "metadata": {},
     "output_type": "execute_result"
    },
    {
     "data": {
      "image/png": "[encoded data removed]",
      "text/plain": [
       "<matplotlib.figure.Figure at 0x7f0efc6c5da0>"
      ]
     },
     "metadata": {},
     "output_type": "display_data"
    }
   ],
   "source": [
    "pd.Series(y_res).value_counts().plot(kind='bar', figsize = (10, 7))"
   ]
  },
  {
   "cell_type": "markdown",
   "metadata": {},
   "source": [
    "## Предсказание"
   ]
  },
  {
   "cell_type": "code",
   "execution_count": 34,
   "metadata": {},
   "outputs": [],
   "source": [
    "from sklearn.model_selection import cross_val_predict"
   ]
  },
  {
   "cell_type": "code",
   "execution_count": 40,
   "metadata": {},
   "outputs": [],
   "source": [
    "from sklearn.metrics import classification_report"
   ]
  },
  {
   "cell_type": "code",
   "execution_count": 35,
   "metadata": {},
   "outputs": [
    {
     "data": {
      "text/plain": [
       "RandomForestClassifier(bootstrap=True, class_weight='balanced',\n",
       "            criterion='gini', max_depth=None, max_features='auto',\n",
       "            max_leaf_nodes=None, min_impurity_decrease=0.0,\n",
       "            min_impurity_split=None, min_samples_leaf=1,\n",
       "            min_samples_split=2, min_weight_fraction_leaf=0.0,\n",
       "            n_estimators=1000, n_jobs=1, oob_score=False,\n",
       "            random_state=None, verbose=0, warm_start=False)"
      ]
     },
     "execution_count": 35,
     "metadata": {},
     "output_type": "execute_result"
    }
   ],
   "source": [
    "## RF\n",
    "from sklearn.ensemble import RandomForestClassifier\n",
    "rf = RandomForestClassifier(n_estimators=1000, class_weight='balanced')\n",
    "rf.fit(X_concat, target)"
   ]
  },
  {
   "cell_type": "code",
   "execution_count": 36,
   "metadata": {
    "scrolled": true
   },
   "outputs": [
    {
     "name": "stderr",
     "output_type": "stream",
     "text": [
      "/home/lena/anaconda3/lib/python3.6/site-packages/sklearn/model_selection/_split.py:605: Warning: The least populated class in y has only 2 members, which is too few. The minimum number of members in any class cannot be less than n_splits=5.\n",
      "  % (min_groups, self.n_splits)), Warning)\n"
     ]
    }
   ],
   "source": [
    "pred_rf_sv = cross_val_predict(rf, X_concat, target, cv=5)"
   ]
  },
  {
   "cell_type": "code",
   "execution_count": 37,
   "metadata": {},
   "outputs": [],
   "source": [
    "def rel_type_only(y):\n",
    "    return [re.sub('_(SN|NS|M)', '', elem) for elem in y]\n",
    "def nucl_only(y):\n",
    "    return [elem.split('_')[1] if elem != 'no_relation' else elem for elem in y ]\n",
    "def presence_only(y):\n",
    "    return ['relation' if elem != 'no_relation' else elem for elem in y]"
   ]
  },
  {
   "cell_type": "code",
   "execution_count": 38,
   "metadata": {},
   "outputs": [],
   "source": [
    "def all_classification_reports(y_true, y_pred):\n",
    "    print('All together:')\n",
    "    print(classification_report(y_true, y_pred))\n",
    "    print('Relation type:')\n",
    "    print(classification_report(rel_type_only(y_true), rel_type_only(y_pred)))\n",
    "    print('Nuclearity:')\n",
    "    print(classification_report(nucl_only(y_true), nucl_only(y_pred)))\n",
    "    print('Presence of relation:')\n",
    "    print(classification_report(presence_only(y_true), presence_only(y_pred)))"
   ]
  },
  {
   "cell_type": "code",
   "execution_count": 41,
   "metadata": {
    "scrolled": false
   },
   "outputs": [
    {
     "name": "stdout",
     "output_type": "stream",
     "text": [
      "All together:\n",
      "                              precision    recall  f1-score   support\n",
      "\n",
      "               antithesis_NS       0.00      0.00      0.00         2\n",
      "              attribution_NS       1.00      0.05      0.09        44\n",
      "              attribution_SN       0.33      0.01      0.03       152\n",
      "               background_NS       0.00      0.00      0.00        35\n",
      "               background_SN       0.00      0.00      0.00        40\n",
      "             cause-effect_NS       0.00      0.00      0.00        81\n",
      "             cause-effect_SN       0.00      0.00      0.00        82\n",
      "                comparison_M       0.00      0.00      0.00        47\n",
      "               concession_NS       0.00      0.00      0.00        26\n",
      "               concession_SN       0.00      0.00      0.00        29\n",
      "                condition_NS       0.00      0.00      0.00        38\n",
      "                condition_SN       0.00      0.00      0.00        71\n",
      "                  contrast_M       0.00      0.00      0.00       139\n",
      "              elaboration_NS       0.36      0.02      0.03       723\n",
      "              elaboration_SN       0.00      0.00      0.00        64\n",
      "                 evidence_NS       0.00      0.00      0.00        28\n",
      "                 evidence_SN       0.00      0.00      0.00        16\n",
      "interpretation-evaluation_NS       0.20      0.07      0.11        14\n",
      "interpretation-evaluation_SN       0.00      0.00      0.00        37\n",
      "                     joint_M       0.56      0.15      0.23       737\n",
      "                 no_relation       0.40      0.96      0.57      1866\n",
      "              preparation_SN       0.00      0.00      0.00         9\n",
      "                  purpose_NS       0.00      0.00      0.00        60\n",
      "                  purpose_SN       0.00      0.00      0.00        28\n",
      "               restatement_M       0.50      0.04      0.08        24\n",
      "                 same-unit_M       0.00      0.00      0.00       216\n",
      "                  sequence_M       0.00      0.00      0.00        66\n",
      "             solutionhood_SN       0.00      0.00      0.00         2\n",
      "\n",
      "                 avg / total       0.33      0.41      0.27      4676\n",
      "\n",
      "Relation type:\n",
      "                           precision    recall  f1-score   support\n",
      "\n",
      "               antithesis       0.00      0.00      0.00         2\n",
      "              attribution       0.50      0.02      0.04       196\n",
      "               background       0.00      0.00      0.00        75\n",
      "             cause-effect       0.00      0.00      0.00       163\n",
      "               comparison       0.00      0.00      0.00        47\n",
      "               concession       0.00      0.00      0.00        55\n",
      "                condition       0.00      0.00      0.00       109\n",
      "                 contrast       0.00      0.00      0.00       139\n",
      "              elaboration       0.36      0.02      0.03       787\n",
      "                 evidence       0.00      0.00      0.00        44\n",
      "interpretation-evaluation       0.12      0.02      0.03        51\n",
      "                    joint       0.56      0.15      0.23       737\n",
      "              no_relation       0.40      0.96      0.57      1866\n",
      "              preparation       0.00      0.00      0.00         9\n",
      "                  purpose       0.00      0.00      0.00        88\n",
      "              restatement       0.50      0.04      0.08        24\n",
      "                same-unit       0.00      0.00      0.00       216\n",
      "                 sequence       0.00      0.00      0.00        66\n",
      "             solutionhood       0.00      0.00      0.00         2\n",
      "\n",
      "              avg / total       0.34      0.41      0.27      4676\n",
      "\n",
      "Nuclearity:\n",
      "             precision    recall  f1-score   support\n",
      "\n",
      "          M       0.63      0.10      0.18      1229\n",
      "         NS       0.40      0.02      0.03      1051\n",
      "         SN       0.25      0.01      0.01       530\n",
      "no_relation       0.40      0.96      0.57      1866\n",
      "\n",
      "avg / total       0.44      0.41      0.28      4676\n",
      "\n",
      "Presence of relation:\n",
      "             precision    recall  f1-score   support\n",
      "\n",
      "no_relation       0.40      0.96      0.57      1866\n",
      "   relation       0.69      0.06      0.12      2810\n",
      "\n",
      "avg / total       0.58      0.42      0.30      4676\n",
      "\n"
     ]
    },
    {
     "name": "stderr",
     "output_type": "stream",
     "text": [
      "/home/lena/anaconda3/lib/python3.6/site-packages/sklearn/metrics/classification.py:1135: UndefinedMetricWarning: Precision and F-score are ill-defined and being set to 0.0 in labels with no predicted samples.\n",
      "  'precision', 'predicted', average, warn_for)\n"
     ]
    }
   ],
   "source": [
    "all_classification_reports(target, pred_rf_sv)"
   ]
  },
  {
   "cell_type": "code",
   "execution_count": 42,
   "metadata": {},
   "outputs": [],
   "source": [
    "pred_rf_balanced = cross_val_predict(rf, X_res, y_res, cv=5)"
   ]
  },
  {
   "cell_type": "code",
   "execution_count": 43,
   "metadata": {},
   "outputs": [
    {
     "name": "stdout",
     "output_type": "stream",
     "text": [
      "All together:\n",
      "                              precision    recall  f1-score   support\n",
      "\n",
      "               antithesis_NS       1.00      1.00      1.00      1866\n",
      "              attribution_NS       1.00      0.98      0.99      1866\n",
      "              attribution_SN       0.99      0.95      0.97      1866\n",
      "               background_NS       1.00      0.99      0.99      1866\n",
      "               background_SN       1.00      0.99      0.99      1866\n",
      "             cause-effect_NS       1.00      0.97      0.98      1866\n",
      "             cause-effect_SN       1.00      0.98      0.99      1866\n",
      "                comparison_M       1.00      0.98      0.99      1866\n",
      "               concession_NS       0.99      0.99      0.99      1866\n",
      "               concession_SN       1.00      0.99      1.00      1866\n",
      "                condition_NS       0.99      0.99      0.99      1866\n",
      "                condition_SN       0.99      0.98      0.99      1866\n",
      "                  contrast_M       0.99      0.96      0.97      1866\n",
      "              elaboration_NS       0.88      0.78      0.82      1866\n",
      "              elaboration_SN       1.00      0.98      0.99      1866\n",
      "                 evidence_NS       1.00      0.99      1.00      1866\n",
      "                 evidence_SN       1.00      1.00      1.00      1866\n",
      "interpretation-evaluation_NS       1.00      1.00      1.00      1866\n",
      "interpretation-evaluation_SN       1.00      0.99      0.99      1866\n",
      "                     joint_M       0.85      0.86      0.85      1866\n",
      "                 no_relation       0.47      0.67      0.55      1866\n",
      "              preparation_SN       1.00      1.00      1.00      1866\n",
      "                  purpose_NS       0.99      0.98      0.98      1866\n",
      "                  purpose_SN       1.00      0.99      0.99      1866\n",
      "               restatement_M       1.00      0.99      1.00      1866\n",
      "                 same-unit_M       0.99      0.92      0.95      1866\n",
      "                  sequence_M       1.00      0.98      0.99      1866\n",
      "             solutionhood_SN       1.00      1.00      1.00      1866\n",
      "\n",
      "                 avg / total       0.97      0.96      0.96     52248\n",
      "\n",
      "Relation type:\n",
      "                           precision    recall  f1-score   support\n",
      "\n",
      "               antithesis       1.00      1.00      1.00      1866\n",
      "              attribution       0.99      0.97      0.98      3732\n",
      "               background       1.00      0.99      0.99      3732\n",
      "             cause-effect       1.00      0.97      0.98      3732\n",
      "               comparison       1.00      0.98      0.99      1866\n",
      "               concession       1.00      0.99      0.99      3732\n",
      "                condition       0.99      0.98      0.99      3732\n",
      "                 contrast       0.99      0.96      0.97      1866\n",
      "              elaboration       0.94      0.88      0.91      3732\n",
      "                 evidence       1.00      0.99      1.00      3732\n",
      "interpretation-evaluation       1.00      0.99      1.00      3732\n",
      "                    joint       0.85      0.86      0.85      1866\n",
      "              no_relation       0.47      0.67      0.55      1866\n",
      "              preparation       1.00      1.00      1.00      1866\n",
      "                  purpose       0.99      0.99      0.99      3732\n",
      "              restatement       1.00      0.99      1.00      1866\n",
      "                same-unit       0.99      0.92      0.95      1866\n",
      "                 sequence       1.00      0.98      0.99      1866\n",
      "             solutionhood       1.00      1.00      1.00      1866\n",
      "\n",
      "              avg / total       0.97      0.96      0.96     52248\n",
      "\n",
      "Nuclearity:\n",
      "             precision    recall  f1-score   support\n",
      "\n",
      "          M       0.97      0.95      0.96     11196\n",
      "         NS       0.99      0.97      0.98     18660\n",
      "         SN       1.00      0.99      0.99     20526\n",
      "no_relation       0.47      0.67      0.55      1866\n",
      "\n",
      "avg / total       0.97      0.96      0.96     52248\n",
      "\n",
      "Presence of relation:\n",
      "             precision    recall  f1-score   support\n",
      "\n",
      "no_relation       0.47      0.67      0.55      1866\n",
      "   relation       0.99      0.97      0.98     50382\n",
      "\n",
      "avg / total       0.97      0.96      0.96     52248\n",
      "\n"
     ]
    }
   ],
   "source": [
    "all_classification_reports(y_res, pred_rf_balanced)"
   ]
  }
 ],
 "metadata": {
  "kernelspec": {
   "display_name": "Python 3",
   "language": "python",
   "name": "python3"
  },
  "language_info": {
   "codemirror_mode": {
    "name": "ipython",
    "version": 3
   },
   "file_extension": ".py",
   "mimetype": "text/x-python",
   "name": "python",
   "nbconvert_exporter": "python",
   "pygments_lexer": "ipython3",
   "version": "3.6.4"
  }
 },
 "nbformat": 4,
 "nbformat_minor": 2
}
