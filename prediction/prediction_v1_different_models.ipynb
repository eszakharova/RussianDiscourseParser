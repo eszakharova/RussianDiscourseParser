{
 "cells": [
  {
   "cell_type": "code",
   "execution_count": 1,
   "metadata": {},
   "outputs": [],
   "source": [
    "import numpy as np\n",
    "import pandas as pd\n",
    "import pickle\n",
    "import regex as re\n",
    "from sklearn.model_selection import cross_val_predict"
   ]
  },
  {
   "cell_type": "code",
   "execution_count": 2,
   "metadata": {},
   "outputs": [],
   "source": [
    "from preprocessing.parse_rs3_make_objects import EDUPair, EDU\n",
    "from make_features import load_pairs_target, generate_feature_matrix, all_classification_reports, smote_oversampling"
   ]
  },
  {
   "cell_type": "code",
   "execution_count": 3,
   "metadata": {},
   "outputs": [],
   "source": [
    "pairs,target = load_pairs_target() "
   ]
  },
  {
   "cell_type": "code",
   "execution_count": 4,
   "metadata": {
    "scrolled": false
   },
   "outputs": [
    {
     "name": "stdout",
     "output_type": "stream",
     "text": [
      "(4676, 6252)\n"
     ]
    }
   ],
   "source": [
    "X = generate_feature_matrix(pairs)"
   ]
  },
  {
   "cell_type": "code",
   "execution_count": 5,
   "metadata": {
    "scrolled": true
   },
   "outputs": [
    {
     "name": "stdout",
     "output_type": "stream",
     "text": [
      "(52248, 6252)\n"
     ]
    }
   ],
   "source": [
    "X_res, target_res = smote_oversampling(X, target)"
   ]
  },
  {
   "cell_type": "code",
   "execution_count": 6,
   "metadata": {},
   "outputs": [],
   "source": [
    "SEED=669"
   ]
  },
  {
   "cell_type": "code",
   "execution_count": 9,
   "metadata": {},
   "outputs": [
    {
     "name": "stderr",
     "output_type": "stream",
     "text": [
      "[Parallel(n_jobs=1)]: Done   1 out of   1 | elapsed: 23.4min remaining:    0.0s\n",
      "[Parallel(n_jobs=1)]: Done   2 out of   2 | elapsed: 46.9min remaining:    0.0s\n",
      "[Parallel(n_jobs=1)]: Done   3 out of   3 | elapsed: 70.3min remaining:    0.0s\n",
      "[Parallel(n_jobs=1)]: Done   4 out of   4 | elapsed: 93.8min remaining:    0.0s\n",
      "[Parallel(n_jobs=1)]: Done   5 out of   5 | elapsed: 118.1min remaining:    0.0s\n",
      "[Parallel(n_jobs=1)]: Done   5 out of   5 | elapsed: 118.1min finished\n"
     ]
    },
    {
     "name": "stdout",
     "output_type": "stream",
     "text": [
      "All together:\n",
      "                              precision    recall  f1-score   support\n",
      "\n",
      "               antithesis_NS       0.94      1.00      0.97      1866\n",
      "              attribution_NS       0.45      0.45      0.45      1866\n",
      "              attribution_SN       0.27      0.26      0.27      1866\n",
      "               background_NS       0.35      0.42      0.38      1866\n",
      "               background_SN       0.38      0.57      0.45      1866\n",
      "             cause-effect_NS       0.20      0.01      0.02      1866\n",
      "             cause-effect_SN       0.31      0.27      0.29      1866\n",
      "                comparison_M       0.30      0.28      0.29      1866\n",
      "               concession_NS       0.67      0.64      0.65      1866\n",
      "               concession_SN       0.81      0.65      0.72      1866\n",
      "                condition_NS       0.50      0.54      0.52      1866\n",
      "                condition_SN       0.32      0.27      0.29      1866\n",
      "                  contrast_M       0.78      0.03      0.05      1866\n",
      "              elaboration_NS       0.12      0.03      0.05      1866\n",
      "              elaboration_SN       0.30      0.19      0.23      1866\n",
      "                 evidence_NS       0.28      0.56      0.37      1866\n",
      "                 evidence_SN       0.58      0.79      0.67      1866\n",
      "interpretation-evaluation_NS       0.72      0.86      0.78      1866\n",
      "interpretation-evaluation_SN       0.47      0.63      0.54      1866\n",
      "                     joint_M       0.33      0.01      0.02      1866\n",
      "                 no_relation       0.45      0.01      0.02      1866\n",
      "              preparation_SN       0.92      1.00      0.96      1866\n",
      "                  purpose_NS       0.26      0.62      0.36      1866\n",
      "                  purpose_SN       0.42      0.81      0.56      1866\n",
      "               restatement_M       0.89      0.67      0.77      1866\n",
      "                 same-unit_M       0.34      0.21      0.26      1866\n",
      "                  sequence_M       0.23      0.46      0.30      1866\n",
      "             solutionhood_SN       0.94      1.00      0.97      1866\n",
      "\n",
      "                 avg / total       0.48      0.47      0.44     52248\n",
      "\n",
      "Relation type:\n",
      "                           precision    recall  f1-score   support\n",
      "\n",
      "               antithesis       0.94      1.00      0.97      1866\n",
      "              attribution       0.39      0.38      0.38      3732\n",
      "               background       0.40      0.54      0.46      3732\n",
      "             cause-effect       0.33      0.15      0.21      3732\n",
      "               comparison       0.30      0.28      0.29      1866\n",
      "               concession       0.73      0.64      0.69      3732\n",
      "                condition       0.44      0.42      0.43      3732\n",
      "                 contrast       0.78      0.03      0.05      1866\n",
      "              elaboration       0.28      0.12      0.17      3732\n",
      "                 evidence       0.41      0.69      0.51      3732\n",
      "interpretation-evaluation       0.59      0.75      0.66      3732\n",
      "                    joint       0.33      0.01      0.02      1866\n",
      "              no_relation       0.45      0.01      0.02      1866\n",
      "              preparation       0.92      1.00      0.96      1866\n",
      "                  purpose       0.34      0.74      0.47      3732\n",
      "              restatement       0.89      0.67      0.77      1866\n",
      "                same-unit       0.34      0.21      0.26      1866\n",
      "                 sequence       0.23      0.46      0.30      1866\n",
      "             solutionhood       0.94      1.00      0.97      1866\n",
      "\n",
      "              avg / total       0.50      0.48      0.45     52248\n",
      "\n",
      "Nuclearity:\n",
      "             precision    recall  f1-score   support\n",
      "\n",
      "          M       0.54      0.40      0.46     11196\n",
      "         NS       0.63      0.71      0.67     18660\n",
      "         SN       0.70      0.79      0.74     20526\n",
      "no_relation       0.45      0.01      0.02      1866\n",
      "\n",
      "avg / total       0.63      0.65      0.63     52248\n",
      "\n",
      "Presence of relation:\n",
      "             precision    recall  f1-score   support\n",
      "\n",
      "no_relation       0.45      0.01      0.02      1866\n",
      "   relation       0.96      1.00      0.98     50382\n",
      "\n",
      "avg / total       0.95      0.96      0.95     52248\n",
      "\n"
     ]
    }
   ],
   "source": [
    "## SVM\n",
    "from sklearn.svm import SVC\n",
    "svc = SVC(random_state=SEED)\n",
    "pred_svc_cv = cross_val_predict(svc, X_res, target_res, cv=5, verbose=10)\n",
    "all_classification_reports(target_res, pred_svc_cv)"
   ]
  },
  {
   "cell_type": "code",
   "execution_count": 7,
   "metadata": {},
   "outputs": [],
   "source": [
    "# ## KNN\n",
    "# from sklearn.neighbors import KNeighborsClassifier\n",
    "# knn = KNeighborsClassifier(n_neighbors=11)\n",
    "# pred_knn_cv = cross_val_predict(knn, X_res, target_res, cv=5, verbose=10)\n",
    "# all_classification_reports(target_res, pred_knn_cv)"
   ]
  },
  {
   "cell_type": "code",
   "execution_count": 8,
   "metadata": {},
   "outputs": [
    {
     "name": "stderr",
     "output_type": "stream",
     "text": [
      "/home/lena/anaconda3/lib/python3.6/site-packages/sklearn/preprocessing/label.py:151: DeprecationWarning: The truth value of an empty array is ambiguous. Returning False, but in future this will result in an error. Use `array.size > 0` to check that an array is not empty.\n",
      "  if diff:\n",
      "[Parallel(n_jobs=1)]: Done   1 out of   1 | elapsed: 14.0min remaining:    0.0s\n",
      "/home/lena/anaconda3/lib/python3.6/site-packages/sklearn/preprocessing/label.py:151: DeprecationWarning: The truth value of an empty array is ambiguous. Returning False, but in future this will result in an error. Use `array.size > 0` to check that an array is not empty.\n",
      "  if diff:\n",
      "[Parallel(n_jobs=1)]: Done   2 out of   2 | elapsed: 28.7min remaining:    0.0s\n",
      "/home/lena/anaconda3/lib/python3.6/site-packages/sklearn/preprocessing/label.py:151: DeprecationWarning: The truth value of an empty array is ambiguous. Returning False, but in future this will result in an error. Use `array.size > 0` to check that an array is not empty.\n",
      "  if diff:\n",
      "[Parallel(n_jobs=1)]: Done   3 out of   3 | elapsed: 42.4min remaining:    0.0s\n",
      "/home/lena/anaconda3/lib/python3.6/site-packages/sklearn/preprocessing/label.py:151: DeprecationWarning: The truth value of an empty array is ambiguous. Returning False, but in future this will result in an error. Use `array.size > 0` to check that an array is not empty.\n",
      "  if diff:\n",
      "[Parallel(n_jobs=1)]: Done   4 out of   4 | elapsed: 56.1min remaining:    0.0s\n",
      "/home/lena/anaconda3/lib/python3.6/site-packages/sklearn/preprocessing/label.py:151: DeprecationWarning: The truth value of an empty array is ambiguous. Returning False, but in future this will result in an error. Use `array.size > 0` to check that an array is not empty.\n",
      "  if diff:\n",
      "[Parallel(n_jobs=1)]: Done   5 out of   5 | elapsed: 69.7min remaining:    0.0s\n",
      "[Parallel(n_jobs=1)]: Done   5 out of   5 | elapsed: 69.7min finished\n"
     ]
    },
    {
     "name": "stdout",
     "output_type": "stream",
     "text": [
      "All together:\n",
      "                              precision    recall  f1-score   support\n",
      "\n",
      "               antithesis_NS       1.00      1.00      1.00      1866\n",
      "              attribution_NS       0.99      0.98      0.98      1866\n",
      "              attribution_SN       0.93      0.94      0.93      1866\n",
      "               background_NS       0.99      0.98      0.99      1866\n",
      "               background_SN       0.99      0.98      0.99      1866\n",
      "             cause-effect_NS       0.99      0.96      0.98      1866\n",
      "             cause-effect_SN       0.99      0.96      0.98      1866\n",
      "                comparison_M       0.98      0.98      0.98      1866\n",
      "               concession_NS       0.99      0.99      0.99      1866\n",
      "               concession_SN       0.99      0.99      0.99      1866\n",
      "                condition_NS       0.98      0.99      0.99      1866\n",
      "                condition_SN       0.98      0.98      0.98      1866\n",
      "                  contrast_M       0.94      0.94      0.94      1866\n",
      "              elaboration_NS       0.83      0.51      0.63      1866\n",
      "              elaboration_SN       0.99      0.97      0.98      1866\n",
      "                 evidence_NS       1.00      0.99      0.99      1866\n",
      "                 evidence_SN       1.00      0.99      1.00      1866\n",
      "interpretation-evaluation_NS       1.00      0.99      1.00      1866\n",
      "interpretation-evaluation_SN       1.00      0.98      0.99      1866\n",
      "                     joint_M       0.79      0.55      0.65      1866\n",
      "                 no_relation       0.37      0.69      0.48      1866\n",
      "              preparation_SN       1.00      1.00      1.00      1866\n",
      "                  purpose_NS       0.98      0.98      0.98      1866\n",
      "                  purpose_SN       0.99      0.99      0.99      1866\n",
      "               restatement_M       0.99      0.99      0.99      1866\n",
      "                 same-unit_M       0.87      0.88      0.88      1866\n",
      "                  sequence_M       0.98      0.97      0.97      1866\n",
      "             solutionhood_SN       1.00      1.00      1.00      1866\n",
      "\n",
      "                 avg / total       0.95      0.93      0.94     52248\n",
      "\n",
      "Relation type:\n",
      "                           precision    recall  f1-score   support\n",
      "\n",
      "               antithesis       1.00      1.00      1.00      1866\n",
      "              attribution       0.96      0.96      0.96      3732\n",
      "               background       0.99      0.98      0.99      3732\n",
      "             cause-effect       0.99      0.96      0.98      3732\n",
      "               comparison       0.98      0.98      0.98      1866\n",
      "               concession       0.99      0.99      0.99      3732\n",
      "                condition       0.98      0.98      0.98      3732\n",
      "                 contrast       0.94      0.94      0.94      1866\n",
      "              elaboration       0.93      0.74      0.82      3732\n",
      "                 evidence       1.00      0.99      0.99      3732\n",
      "interpretation-evaluation       1.00      0.99      0.99      3732\n",
      "                    joint       0.79      0.55      0.65      1866\n",
      "              no_relation       0.37      0.69      0.48      1866\n",
      "              preparation       1.00      1.00      1.00      1866\n",
      "                  purpose       0.99      0.99      0.99      3732\n",
      "              restatement       0.99      0.99      0.99      1866\n",
      "                same-unit       0.87      0.88      0.88      1866\n",
      "                 sequence       0.98      0.97      0.97      1866\n",
      "             solutionhood       1.00      1.00      1.00      1866\n",
      "\n",
      "              avg / total       0.95      0.93      0.94     52248\n",
      "\n",
      "Nuclearity:\n",
      "             precision    recall  f1-score   support\n",
      "\n",
      "          M       0.95      0.90      0.93     11196\n",
      "         NS       0.98      0.94      0.96     18660\n",
      "         SN       0.99      0.98      0.98     20526\n",
      "no_relation       0.37      0.69      0.48      1866\n",
      "\n",
      "avg / total       0.96      0.94      0.95     52248\n",
      "\n",
      "Presence of relation:\n",
      "             precision    recall  f1-score   support\n",
      "\n",
      "no_relation       0.37      0.69      0.48      1866\n",
      "   relation       0.99      0.96      0.97     50382\n",
      "\n",
      "avg / total       0.97      0.95      0.95     52248\n",
      "\n"
     ]
    }
   ],
   "source": [
    "## XGboost (sklearn api)\n",
    "from xgboost import XGBClassifier\n",
    "xgb = XGBClassifier(objective=\"multi:softmax\", random_state=SEED)\n",
    "pred_xgb_cv = cross_val_predict(xgb, X_res, target_res, cv=5, verbose=10)\n",
    "all_classification_reports(target_res, pred_xgb_cv)"
   ]
  },
  {
   "cell_type": "code",
   "execution_count": 9,
   "metadata": {
    "scrolled": false
   },
   "outputs": [
    {
     "name": "stderr",
     "output_type": "stream",
     "text": [
      "[Parallel(n_jobs=1)]: Done   1 out of   1 | elapsed: 14.8min remaining:    0.0s\n",
      "[Parallel(n_jobs=1)]: Done   2 out of   2 | elapsed: 31.5min remaining:    0.0s\n",
      "[Parallel(n_jobs=1)]: Done   3 out of   3 | elapsed: 48.9min remaining:    0.0s\n",
      "[Parallel(n_jobs=1)]: Done   4 out of   4 | elapsed: 66.2min remaining:    0.0s\n",
      "[Parallel(n_jobs=1)]: Done   5 out of   5 | elapsed: 83.6min remaining:    0.0s\n",
      "[Parallel(n_jobs=1)]: Done   5 out of   5 | elapsed: 83.6min finished\n"
     ]
    },
    {
     "name": "stdout",
     "output_type": "stream",
     "text": [
      "All together:\n",
      "                              precision    recall  f1-score   support\n",
      "\n",
      "               antithesis_NS       1.00      1.00      1.00      1866\n",
      "              attribution_NS       1.00      0.99      0.99      1866\n",
      "              attribution_SN       0.99      0.95      0.97      1866\n",
      "               background_NS       1.00      0.99      0.99      1866\n",
      "               background_SN       1.00      0.99      0.99      1866\n",
      "             cause-effect_NS       1.00      0.97      0.98      1866\n",
      "             cause-effect_SN       1.00      0.97      0.99      1866\n",
      "                comparison_M       1.00      0.98      0.99      1866\n",
      "               concession_NS       0.99      0.99      0.99      1866\n",
      "               concession_SN       1.00      0.99      1.00      1866\n",
      "                condition_NS       0.99      0.99      0.99      1866\n",
      "                condition_SN       0.99      0.98      0.99      1866\n",
      "                  contrast_M       0.98      0.96      0.97      1866\n",
      "              elaboration_NS       0.88      0.78      0.83      1866\n",
      "              elaboration_SN       1.00      0.98      0.99      1866\n",
      "                 evidence_NS       1.00      0.99      1.00      1866\n",
      "                 evidence_SN       1.00      1.00      1.00      1866\n",
      "interpretation-evaluation_NS       1.00      1.00      1.00      1866\n",
      "interpretation-evaluation_SN       1.00      0.99      0.99      1866\n",
      "                     joint_M       0.85      0.86      0.86      1866\n",
      "                 no_relation       0.48      0.68      0.56      1866\n",
      "              preparation_SN       1.00      1.00      1.00      1866\n",
      "                  purpose_NS       0.99      0.98      0.98      1866\n",
      "                  purpose_SN       1.00      0.99      1.00      1866\n",
      "               restatement_M       1.00      0.99      1.00      1866\n",
      "                 same-unit_M       0.98      0.92      0.95      1866\n",
      "                  sequence_M       1.00      0.98      0.99      1866\n",
      "             solutionhood_SN       1.00      1.00      1.00      1866\n",
      "\n",
      "                 avg / total       0.97      0.96      0.96     52248\n",
      "\n",
      "Relation type:\n",
      "                           precision    recall  f1-score   support\n",
      "\n",
      "               antithesis       1.00      1.00      1.00      1866\n",
      "              attribution       0.99      0.97      0.98      3732\n",
      "               background       1.00      0.99      0.99      3732\n",
      "             cause-effect       1.00      0.97      0.98      3732\n",
      "               comparison       1.00      0.98      0.99      1866\n",
      "               concession       1.00      0.99      0.99      3732\n",
      "                condition       0.99      0.98      0.99      3732\n",
      "                 contrast       0.98      0.96      0.97      1866\n",
      "              elaboration       0.94      0.88      0.91      3732\n",
      "                 evidence       1.00      0.99      1.00      3732\n",
      "interpretation-evaluation       1.00      0.99      1.00      3732\n",
      "                    joint       0.85      0.86      0.86      1866\n",
      "              no_relation       0.48      0.68      0.56      1866\n",
      "              preparation       1.00      1.00      1.00      1866\n",
      "                  purpose       0.99      0.99      0.99      3732\n",
      "              restatement       1.00      0.99      1.00      1866\n",
      "                same-unit       0.98      0.92      0.95      1866\n",
      "                 sequence       1.00      0.98      0.99      1866\n",
      "             solutionhood       1.00      1.00      1.00      1866\n",
      "\n",
      "              avg / total       0.97      0.96      0.96     52248\n",
      "\n",
      "Nuclearity:\n",
      "             precision    recall  f1-score   support\n",
      "\n",
      "          M       0.97      0.95      0.96     11196\n",
      "         NS       0.99      0.97      0.98     18660\n",
      "         SN       1.00      0.98      0.99     20526\n",
      "no_relation       0.48      0.68      0.56      1866\n",
      "\n",
      "avg / total       0.97      0.96      0.96     52248\n",
      "\n",
      "Presence of relation:\n",
      "             precision    recall  f1-score   support\n",
      "\n",
      "no_relation       0.48      0.68      0.56      1866\n",
      "   relation       0.99      0.97      0.98     50382\n",
      "\n",
      "avg / total       0.97      0.96      0.96     52248\n",
      "\n"
     ]
    }
   ],
   "source": [
    "## Random Forest\n",
    "from sklearn.ensemble import RandomForestClassifier\n",
    "rf = RandomForestClassifier(n_estimators=1500, random_state=SEED)\n",
    "pred_rf_cv = cross_val_predict(rf, X_res, target_res, cv=5, verbose=10)\n",
    "all_classification_reports(target_res, pred_rf_cv)"
   ]
  },
  {
   "cell_type": "code",
   "execution_count": null,
   "metadata": {},
   "outputs": [],
   "source": []
  }
 ],
 "metadata": {
  "kernelspec": {
   "display_name": "Python 3",
   "language": "python",
   "name": "python3"
  },
  "language_info": {
   "codemirror_mode": {
    "name": "ipython",
    "version": 3
   },
   "file_extension": ".py",
   "mimetype": "text/x-python",
   "name": "python",
   "nbconvert_exporter": "python",
   "pygments_lexer": "ipython3",
   "version": "3.6.4"
  }
 },
 "nbformat": 4,
 "nbformat_minor": 2
}
